{
 "cells": [
  {
   "cell_type": "code",
   "execution_count": 1,
   "metadata": {},
   "outputs": [
    {
     "name": "stderr",
     "output_type": "stream",
     "text": [
      "Using TensorFlow backend.\n",
      "/home/grosman/DLM-Project/deep_crater_env/lib/python3.5/site-packages/tensorflow/python/framework/dtypes.py:516: FutureWarning: Passing (type, 1) or '1type' as a synonym of type is deprecated; in a future version of numpy, it will be understood as (type, (1,)) / '(1,)type'.\n",
      "  _np_qint8 = np.dtype([(\"qint8\", np.int8, 1)])\n",
      "/home/grosman/DLM-Project/deep_crater_env/lib/python3.5/site-packages/tensorflow/python/framework/dtypes.py:517: FutureWarning: Passing (type, 1) or '1type' as a synonym of type is deprecated; in a future version of numpy, it will be understood as (type, (1,)) / '(1,)type'.\n",
      "  _np_quint8 = np.dtype([(\"quint8\", np.uint8, 1)])\n",
      "/home/grosman/DLM-Project/deep_crater_env/lib/python3.5/site-packages/tensorflow/python/framework/dtypes.py:518: FutureWarning: Passing (type, 1) or '1type' as a synonym of type is deprecated; in a future version of numpy, it will be understood as (type, (1,)) / '(1,)type'.\n",
      "  _np_qint16 = np.dtype([(\"qint16\", np.int16, 1)])\n",
      "/home/grosman/DLM-Project/deep_crater_env/lib/python3.5/site-packages/tensorflow/python/framework/dtypes.py:519: FutureWarning: Passing (type, 1) or '1type' as a synonym of type is deprecated; in a future version of numpy, it will be understood as (type, (1,)) / '(1,)type'.\n",
      "  _np_quint16 = np.dtype([(\"quint16\", np.uint16, 1)])\n",
      "/home/grosman/DLM-Project/deep_crater_env/lib/python3.5/site-packages/tensorflow/python/framework/dtypes.py:520: FutureWarning: Passing (type, 1) or '1type' as a synonym of type is deprecated; in a future version of numpy, it will be understood as (type, (1,)) / '(1,)type'.\n",
      "  _np_qint32 = np.dtype([(\"qint32\", np.int32, 1)])\n",
      "/home/grosman/DLM-Project/deep_crater_env/lib/python3.5/site-packages/tensorflow/python/framework/dtypes.py:525: FutureWarning: Passing (type, 1) or '1type' as a synonym of type is deprecated; in a future version of numpy, it will be understood as (type, (1,)) / '(1,)type'.\n",
      "  np_resource = np.dtype([(\"resource\", np.ubyte, 1)])\n",
      "/home/grosman/DLM-Project/deep_crater_env/lib/python3.5/site-packages/tensorboard/compat/tensorflow_stub/dtypes.py:541: FutureWarning: Passing (type, 1) or '1type' as a synonym of type is deprecated; in a future version of numpy, it will be understood as (type, (1,)) / '(1,)type'.\n",
      "  _np_qint8 = np.dtype([(\"qint8\", np.int8, 1)])\n",
      "/home/grosman/DLM-Project/deep_crater_env/lib/python3.5/site-packages/tensorboard/compat/tensorflow_stub/dtypes.py:542: FutureWarning: Passing (type, 1) or '1type' as a synonym of type is deprecated; in a future version of numpy, it will be understood as (type, (1,)) / '(1,)type'.\n",
      "  _np_quint8 = np.dtype([(\"quint8\", np.uint8, 1)])\n",
      "/home/grosman/DLM-Project/deep_crater_env/lib/python3.5/site-packages/tensorboard/compat/tensorflow_stub/dtypes.py:543: FutureWarning: Passing (type, 1) or '1type' as a synonym of type is deprecated; in a future version of numpy, it will be understood as (type, (1,)) / '(1,)type'.\n",
      "  _np_qint16 = np.dtype([(\"qint16\", np.int16, 1)])\n",
      "/home/grosman/DLM-Project/deep_crater_env/lib/python3.5/site-packages/tensorboard/compat/tensorflow_stub/dtypes.py:544: FutureWarning: Passing (type, 1) or '1type' as a synonym of type is deprecated; in a future version of numpy, it will be understood as (type, (1,)) / '(1,)type'.\n",
      "  _np_quint16 = np.dtype([(\"quint16\", np.uint16, 1)])\n",
      "/home/grosman/DLM-Project/deep_crater_env/lib/python3.5/site-packages/tensorboard/compat/tensorflow_stub/dtypes.py:545: FutureWarning: Passing (type, 1) or '1type' as a synonym of type is deprecated; in a future version of numpy, it will be understood as (type, (1,)) / '(1,)type'.\n",
      "  _np_qint32 = np.dtype([(\"qint32\", np.int32, 1)])\n",
      "/home/grosman/DLM-Project/deep_crater_env/lib/python3.5/site-packages/tensorboard/compat/tensorflow_stub/dtypes.py:550: FutureWarning: Passing (type, 1) or '1type' as a synonym of type is deprecated; in a future version of numpy, it will be understood as (type, (1,)) / '(1,)type'.\n",
      "  np_resource = np.dtype([(\"resource\", np.ubyte, 1)])\n"
     ]
    }
   ],
   "source": [
    "import os\n",
    "from keras.models import load_model\n",
    "import pandas as pd\n",
    "import matplotlib.pyplot as plt\n",
    "import numpy as np\n",
    "import detect_craters_with_model"
   ]
  },
  {
   "cell_type": "code",
   "execution_count": 2,
   "metadata": {},
   "outputs": [
    {
     "name": "stdout",
     "output_type": "stream",
     "text": [
      "WARNING:tensorflow:From /home/grosman/DLM-Project/deep_crater_env/lib/python3.5/site-packages/keras/backend/tensorflow_backend.py:321: The name tf.placeholder is deprecated. Please use tf.compat.v1.placeholder instead.\n",
      "\n",
      "WARNING:tensorflow:From /home/grosman/DLM-Project/deep_crater_env/lib/python3.5/site-packages/keras/backend/tensorflow_backend.py:673: calling RandomNormal.__init__ (from tensorflow.python.ops.init_ops) with dtype is deprecated and will be removed in a future version.\n",
      "Instructions for updating:\n",
      "Call initializer instance with the dtype argument instead of passing it to the constructor\n",
      "WARNING:tensorflow:From /home/grosman/DLM-Project/deep_crater_env/lib/python3.5/site-packages/keras/backend/tensorflow_backend.py:1029: calling reduce_sum_v1 (from tensorflow.python.ops.math_ops) with keep_dims is deprecated and will be removed in a future version.\n",
      "Instructions for updating:\n",
      "keep_dims is deprecated, use keepdims instead\n",
      "WARNING:tensorflow:From /home/grosman/DLM-Project/deep_crater_env/lib/python3.5/site-packages/keras/backend/tensorflow_backend.py:491: calling Constant.__init__ (from tensorflow.python.ops.init_ops) with dtype is deprecated and will be removed in a future version.\n",
      "Instructions for updating:\n",
      "Call initializer instance with the dtype argument instead of passing it to the constructor\n",
      "WARNING:tensorflow:From /home/grosman/DLM-Project/deep_crater_env/lib/python3.5/site-packages/keras/backend/tensorflow_backend.py:2866: The name tf.nn.max_pool is deprecated. Please use tf.nn.max_pool2d instead.\n",
      "\n",
      "WARNING:tensorflow:From /home/grosman/DLM-Project/deep_crater_env/lib/python3.5/site-packages/keras/backend/tensorflow_backend.py:1506: The name tf.image.resize_nearest_neighbor is deprecated. Please use tf.compat.v1.image.resize_nearest_neighbor instead.\n",
      "\n",
      "WARNING:tensorflow:From /home/grosman/DLM-Project/deep_crater_env/lib/python3.5/site-packages/keras/backend/tensorflow_backend.py:73: The name tf.get_default_graph is deprecated. Please use tf.compat.v1.get_default_graph instead.\n",
      "\n",
      "WARNING:tensorflow:From /home/grosman/DLM-Project/deep_crater_env/lib/python3.5/site-packages/keras/backend/tensorflow_backend.py:2516: calling dropout (from tensorflow.python.ops.nn_ops) with keep_prob is deprecated and will be removed in a future version.\n",
      "Instructions for updating:\n",
      "Please use `rate` instead of `keep_prob`. Rate should be set to `rate = 1 - keep_prob`.\n",
      "WARNING:tensorflow:From /home/grosman/DLM-Project/deep_crater_env/lib/python3.5/site-packages/keras/backend/tensorflow_backend.py:112: The name tf.get_default_session is deprecated. Please use tf.compat.v1.get_default_session instead.\n",
      "\n",
      "WARNING:tensorflow:From /home/grosman/DLM-Project/deep_crater_env/lib/python3.5/site-packages/keras/backend/tensorflow_backend.py:117: The name tf.ConfigProto is deprecated. Please use tf.compat.v1.ConfigProto instead.\n",
      "\n",
      "WARNING:tensorflow:From /home/grosman/DLM-Project/deep_crater_env/lib/python3.5/site-packages/keras/backend/tensorflow_backend.py:122: The name tf.Session is deprecated. Please use tf.compat.v1.Session instead.\n",
      "\n",
      "WARNING:tensorflow:From /home/grosman/DLM-Project/deep_crater_env/lib/python3.5/site-packages/keras/optimizers.py:658: The name tf.train.Optimizer is deprecated. Please use tf.compat.v1.train.Optimizer instead.\n",
      "\n",
      "WARNING:tensorflow:From /home/grosman/DLM-Project/deep_crater_env/lib/python3.5/site-packages/tensorflow/python/ops/nn_impl.py:180: add_dispatch_support.<locals>.wrapper (from tensorflow.python.ops.array_ops) is deprecated and will be removed in a future version.\n",
      "Instructions for updating:\n",
      "Use tf.where in 2.0, which has the same broadcast rule as np.where\n"
     ]
    }
   ],
   "source": [
    "model_path = '../../data/trained_model/Silburt/model_keras1.2.2.h5'\n",
    "#model_path = '../../data/trained_model/Silburt/model_keras2.h5'\n",
    "model = load_model(model_path)\n"
   ]
  },
  {
   "cell_type": "code",
   "execution_count": 44,
   "metadata": {},
   "outputs": [
    {
     "name": "stdout",
     "output_type": "stream",
     "text": [
      "../../data/model_input_images/test_coordinates_108_126_12_24/ws_2000_ol_400\n",
      "../../data/model_input_images/test_coordinates_108_126_12_24/ws_500_ol_100\n",
      "../../data/model_input_images/test_coordinates_108_126_12_24/ws_1000_ol_200\n",
      "../../data/model_input_images/test_coordinates_108_126_12_24/ws_3072_ol_600\n"
     ]
    }
   ],
   "source": [
    "import numpy as np\n",
    "data_path = '../../data/model_input_images/test_coordinates_108_126_12_24/'\n",
    "all_craters = pd.read_csv('{}craters_table.csv'.format(data_path)).round(6).sort_values(by=['Diameter (km)'])\n",
    "craters_num = len(all_craters)\n",
    "all_folders = [x[0] for x in os.walk(data_path)][1:]\n",
    "folders_num = len(all_folders)\n",
    "mat = np.zeros((craters_num, folders_num))\n",
    "for i in range(folders_num):\n",
    "    f = all_folders[i]\n",
    "    print(f)\n",
    "    arr = detect_craters_with_model.get_detected_craters_from_path(all_craters, f, model)\n",
    "    mat[:,i] = arr"
   ]
  },
  {
   "cell_type": "code",
   "execution_count": 43,
   "metadata": {},
   "outputs": [],
   "source": [
    "import matplotlib.pyplot as plt\n",
    "# plt.figure(figsize=(1,10))\n",
    "# plt.imshow(mat[:,[3,2,0,1]])"
   ]
  },
  {
   "cell_type": "code",
   "execution_count": 42,
   "metadata": {},
   "outputs": [
    {
     "data": {
      "text/plain": [
       "<matplotlib.axes._subplots.AxesSubplot at 0x7f541010d588>"
      ]
     },
     "execution_count": 42,
     "metadata": {},
     "output_type": "execute_result"
    },
    {
     "data": {
      "image/png": "[encoded data removed]",
      "text/plain": [
       "<Figure size 432x288 with 1 Axes>"
      ]
     },
     "metadata": {
      "needs_background": "light"
     },
     "output_type": "display_data"
    }
   ],
   "source": [
    "all_craters.loc[:,'Diameter (km)'].hist(range=(5,180),bins=50)\n",
    "all_craters.loc[arr,'Diameter (km)'].hist(range=(5,180),bins=50)"
   ]
  },
  {
   "cell_type": "code",
   "execution_count": 37,
   "metadata": {},
   "outputs": [
    {
     "name": "stdout",
     "output_type": "stream",
     "text": [
      "../../data/model_input_images/test_SLDEM_compression_before2_coordinates_108_126_12_24/ws_2000_ol_400\n",
      "../../data/model_input_images/test_SLDEM_compression_before2_coordinates_108_126_12_24/ws_4000_ol_800\n",
      "../../data/model_input_images/test_SLDEM_compression_before2_coordinates_108_126_12_24/ws_6144_ol_1200\n",
      "../../data/model_input_images/test_SLDEM_compression_before2_coordinates_108_126_12_24/ws_1000_ol_200\n"
     ]
    }
   ],
   "source": [
    "data_path = '../../data/model_input_images/test_SLDEM_compression_before2_coordinates_108_126_12_24/'\n",
    "all_craters = pd.read_csv('{}craters_table.csv'.format(data_path)).round(6).sort_values(by=['Diameter (km)'])\n",
    "craters_num = len(all_craters)\n",
    "all_folders = [x[0] for x in os.walk(data_path)][1:]\n",
    "folders_num = len(all_folders)\n",
    "mat_SLDEM_before = np.zeros((craters_num, folders_num))\n",
    "for i in range(folders_num):\n",
    "    f = all_folders[i]\n",
    "    print(f)\n",
    "    arr = detect_craters_with_model.get_detected_craters_from_path(all_craters, f, model)\n",
    "    mat_SLDEM_before[:,i] = arr"
   ]
  },
  {
   "cell_type": "code",
   "execution_count": 38,
   "metadata": {},
   "outputs": [
    {
     "name": "stdout",
     "output_type": "stream",
     "text": [
      "../../data/model_input_images/test_SLDEM_compression_after_coordinates_108_126_12_24/ws_2000_ol_400\n",
      "../../data/model_input_images/test_SLDEM_compression_after_coordinates_108_126_12_24/ws_4000_ol_800\n",
      "../../data/model_input_images/test_SLDEM_compression_after_coordinates_108_126_12_24/ws_6144_ol_1200\n",
      "../../data/model_input_images/test_SLDEM_compression_after_coordinates_108_126_12_24/ws_1000_ol_200\n"
     ]
    }
   ],
   "source": [
    "data_path = '../../data/model_input_images/test_SLDEM_compression_after_coordinates_108_126_12_24/'\n",
    "all_craters = pd.read_csv('{}craters_table.csv'.format(data_path)).round(6).sort_values(by=['Diameter (km)'])\n",
    "craters_num = len(all_craters)\n",
    "all_folders = [x[0] for x in os.walk(data_path)][1:]\n",
    "folders_num = len(all_folders)\n",
    "mat_SLDEM_after = np.zeros((craters_num, folders_num))\n",
    "for i in range(folders_num):\n",
    "    f = all_folders[i]\n",
    "    print(f)\n",
    "    arr = detect_craters_with_model.get_detected_craters_from_path(all_craters, f, model)\n",
    "    mat_SLDEM_after[:,i] = arr"
   ]
  },
  {
   "cell_type": "code",
   "execution_count": 90,
   "metadata": {},
   "outputs": [
    {
     "name": "stdout",
     "output_type": "stream",
     "text": [
      "RECALL:\n",
      "window size (km)    : [ 60.   120.   240.   368.64]\n",
      "for 120 m/pix, 8-bit: [0.54508197 0.68852459 0.79098361 0.57377049] | over all: 0.8811475409836066\n",
      "for 60 m/pix, before: [0.61885246 0.7704918  0.79508197 0.5942623 ] | over all: 0.8852459016393442\n",
      "for 60 m/pix, after: [0.64754098 0.79098361 0.81557377 0.59016393] | over all: 0.9016393442622951\n"
     ]
    }
   ],
   "source": [
    "print('RECALL:')\n",
    "print('window size (km)    : {}'.format(np.array([500,1000,2000,3072])*120/1000))\n",
    "print('for 120 m/pix, 8-bit: {} | over all: {}'.format(mat[:,[1,2,0,3]].mean(axis=0),mat.any(axis=1).mean()))  #(2000,500,1000,3072)\n",
    "print('for 60 m/pix, before: {} | over all: {}'.format(mat_SLDEM_before[:,[3,0,1,2]].mean(axis=0),mat_SLDEM_before.any(axis=1).mean())) #(2000,4000,6144,1000)\n",
    "print('for 60 m/pix, after: {} | over all: {}'.format(mat_SLDEM_after[:,[3,0,1,2]].mean(axis=0),mat_SLDEM_after.any(axis=1).mean()))"
   ]
  },
  {
   "cell_type": "code",
   "execution_count": 1,
   "metadata": {},
   "outputs": [
    {
     "ename": "NameError",
     "evalue": "name 'mat' is not defined",
     "output_type": "error",
     "traceback": [
      "\u001b[0;31m---------------------------------------------------------------------------\u001b[0m",
      "\u001b[0;31mNameError\u001b[0m                                 Traceback (most recent call last)",
      "\u001b[0;32m<ipython-input-1-5b5177cbaeb7>\u001b[0m in \u001b[0;36m<module>\u001b[0;34m\u001b[0m\n\u001b[0;32m----> 1\u001b[0;31m \u001b[0mmat\u001b[0m\u001b[0;34m.\u001b[0m\u001b[0many\u001b[0m\u001b[0;34m(\u001b[0m\u001b[0maxis\u001b[0m\u001b[0;34m=\u001b[0m\u001b[0;36m1\u001b[0m\u001b[0;34m)\u001b[0m\u001b[0;34m.\u001b[0m\u001b[0mmean\u001b[0m\u001b[0;34m(\u001b[0m\u001b[0;34m)\u001b[0m\u001b[0;34m\u001b[0m\u001b[0m\n\u001b[0m\u001b[1;32m      2\u001b[0m \u001b[0mmat_SLDEM_before\u001b[0m\u001b[0;34m.\u001b[0m\u001b[0many\u001b[0m\u001b[0;34m(\u001b[0m\u001b[0maxis\u001b[0m\u001b[0;34m=\u001b[0m\u001b[0;36m1\u001b[0m\u001b[0;34m)\u001b[0m\u001b[0;34m.\u001b[0m\u001b[0mmean\u001b[0m\u001b[0;34m(\u001b[0m\u001b[0;34m)\u001b[0m\u001b[0;34m\u001b[0m\u001b[0m\n\u001b[1;32m      3\u001b[0m \u001b[0mmat_SLDEM_after\u001b[0m\u001b[0;34m.\u001b[0m\u001b[0many\u001b[0m\u001b[0;34m(\u001b[0m\u001b[0maxis\u001b[0m\u001b[0;34m=\u001b[0m\u001b[0;36m1\u001b[0m\u001b[0;34m)\u001b[0m\u001b[0;34m.\u001b[0m\u001b[0mmean\u001b[0m\u001b[0;34m(\u001b[0m\u001b[0;34m)\u001b[0m\u001b[0;34m\u001b[0m\u001b[0m\n",
      "\u001b[0;31mNameError\u001b[0m: name 'mat' is not defined"
     ]
    }
   ],
   "source": [
    "mat.any(axis=1).mean()\n",
    "mat_SLDEM_before.any(axis=1).mean()\n",
    "mat_SLDEM_after.any(axis=1).mean()"
   ]
  },
  {
   "cell_type": "code",
   "execution_count": 2,
   "metadata": {},
   "outputs": [
    {
     "ename": "NameError",
     "evalue": "name 'mat_SLDEM_after' is not defined",
     "output_type": "error",
     "traceback": [
      "\u001b[0;31m---------------------------------------------------------------------------\u001b[0m",
      "\u001b[0;31mNameError\u001b[0m                                 Traceback (most recent call last)",
      "\u001b[0;32m<ipython-input-2-f3e6025e61f7>\u001b[0m in \u001b[0;36m<module>\u001b[0;34m\u001b[0m\n\u001b[0;32m----> 1\u001b[0;31m \u001b[0mmat_SLDEM_after\u001b[0m\u001b[0;34m\u001b[0m\u001b[0m\n\u001b[0m",
      "\u001b[0;31mNameError\u001b[0m: name 'mat_SLDEM_after' is not defined"
     ]
    }
   ],
   "source": [
    "mat_SLDEM_after"
   ]
  }
 ],
 "metadata": {
  "kernelspec": {
   "display_name": "Python 3",
   "language": "python",
   "name": "python3"
  },
  "language_info": {
   "codemirror_mode": {
    "name": "ipython",
    "version": 3
   },
   "file_extension": ".py",
   "mimetype": "text/x-python",
   "name": "python",
   "nbconvert_exporter": "python",
   "pygments_lexer": "ipython3",
   "version": "3.5.2"
  }
 },
 "nbformat": 4,
 "nbformat_minor": 2
}
