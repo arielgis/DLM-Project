{
 "cells": [
  {
   "cell_type": "markdown",
   "metadata": {},
   "source": [
    "# Create sets, Run model and Compare"
   ]
  },
  {
   "cell_type": "code",
   "execution_count": 1,
   "metadata": {},
   "outputs": [
    {
     "data": {
      "text/plain": [
       "[None, None, None]"
      ]
     },
     "execution_count": 1,
     "metadata": {},
     "output_type": "execute_result"
    }
   ],
   "source": [
    "import sys\n",
    "import pandas as pd\n",
    "import numpy as np\n",
    "import matplotlib.pyplot as plt\n",
    "from time import time\n",
    "pathstoadd = ['../find_craters_with_model/','../data_preparation/','../utils/']\n",
    "[sys.path.append(dir) for dir in pathstoadd]\n",
    "# import create_and_run"
   ]
  },
  {
   "cell_type": "markdown",
   "metadata": {},
   "source": [
    "## 1. 120 m/pix map: "
   ]
  },
  {
   "cell_type": "code",
   "execution_count": 3,
   "metadata": {},
   "outputs": [
    {
     "name": "stdout",
     "output_type": "stream",
     "text": [
      "RECALL (%):\n",
      "window size (km)    :   [15, 31, 61, 123, 246]   all \n",
      "for 120 m/pix, 8-bit:  NA  [15.2 57.4 72.1 77.9 85.2] \n",
      "for 60 m/pix, before: [ 0.  23.4 61.9 79.1 80.3 88.1] \n",
      "for 60 m/pix, after : [ 0.4 32.4 66.8 79.9 82.  89.3] \n"
     ]
    }
   ],
   "source": [
    "crop_sizes_set = [[256, 64], [512, 128], [1024, 256], [2048, 512], [4096, 1024]]\n",
    "\n",
    "set_dir = '../../data/model_input_images/test1_SLDEM120_108_126_12_24'\n",
    "craters1 = pd.read_csv(set_dir+'/craters_table.csv')#, header=0, names=['Diameter (km)', 'Lat', 'Long','1024','2048','512','256'])[['Diameter (km)', 'Lat', 'Long','256','512','1024','2048']]\n",
    "set_dir = '../../data/model_input_images/test1_SLDEM60_before_108_126_12_24'\n",
    "craters2 = pd.read_csv(set_dir+'/craters_table.csv')#, header=0, names=['Diameter (km)', 'Lat', 'Long','1024','2048','512','256','4096'])[['Diameter (km)', 'Lat', 'Long','256','512','1024','2048','4096']]\n",
    "set_dir = '../../data/model_input_images/test1_SLDEM60_after_108_126_12_24'\n",
    "craters3 = pd.read_csv(set_dir+'/craters_table.csv')#, header=0, names=['Diameter (km)', 'Lat', 'Long','1024','2048','512','256','4096'])[['Diameter (km)', 'Lat', 'Long','256','512','1024','2048','4096']]\n",
    "\n",
    "\n",
    "print('RECALL (%):')\n",
    "print('window size (km)    :   {}   all '.format(([round(crop[0]*60/1000) for crop in crop_sizes_set])))\n",
    "print('for 120 m/pix, 8-bit:  NA  {} '.format(craters1.iloc[:,3:].mean(axis=0).values.round(3)*100)) \n",
    "print('for 60 m/pix, before: {} '.format(craters2.iloc[:,3:].mean(axis=0).values.round(3)*100)) \n",
    "print('for 60 m/pix, after : {} '.format(craters3.iloc[:,3:].mean(axis=0).values.round(3)*100)) "
   ]
  },
  {
   "cell_type": "code",
   "execution_count": 158,
   "metadata": {},
   "outputs": [
    {
     "data": {
      "text/plain": [
       "[['1024'], ['2048'], ['512'], ['256']]"
      ]
     },
     "execution_count": 158,
     "metadata": {},
     "output_type": "execute_result"
    }
   ],
   "source": [
    "import os\n",
    "import re\n",
    "[x[0] for x in os.walk(set_dir)][1:]\n",
    "[(re.findall('ws_(\\d+)',all_folders[i])) for i in range(4)]"
   ]
  },
  {
   "cell_type": "code",
   "execution_count": 161,
   "metadata": {},
   "outputs": [
    {
     "name": "stdout",
     "output_type": "stream",
     "text": [
      "../../data/model_input_images/test1_SLDEM60_after_108_126_12_24/ws_256_ol_64\n",
      "0\n",
      "../../data/model_input_images/test1_SLDEM60_after_108_126_12_24/ws_512_ol_128\n",
      "1\n",
      "../../data/model_input_images/test1_SLDEM60_after_108_126_12_24/ws_1024_ol_256\n",
      "2\n",
      "../../data/model_input_images/test1_SLDEM60_after_108_126_12_24/ws_2048_ol_512\n",
      "3\n",
      "../../data/model_input_images/test1_SLDEM60_after_108_126_12_24/ws_4096_ol_1024\n",
      "4\n"
     ]
    }
   ],
   "source": [
    "# folder = []#len(crop_sizes_set)\n",
    "for i, crop in enumerate(crop_sizes_set): \n",
    "    folder=(\"{}/ws_{}_ol_{}\".format(set_dir, crop[0], crop[1]))\n",
    "    print(folder)\n",
    "    print(i)"
   ]
  },
  {
   "cell_type": "code",
   "execution_count": 156,
   "metadata": {},
   "outputs": [
    {
     "data": {
      "text/html": [
       "<div>\n",
       "<table border=\"1\" class=\"dataframe\">\n",
       "  <thead>\n",
       "    <tr style=\"text-align: right;\">\n",
       "      <th></th>\n",
       "      <th>Diameter (km)</th>\n",
       "      <th>Lat</th>\n",
       "      <th>Long</th>\n",
       "      <th>ws_256_ol_64</th>\n",
       "      <th>ws_512_ol_128</th>\n",
       "      <th>ws_1024_ol_256</th>\n",
       "      <th>ws_2048_ol_512</th>\n",
       "      <th>ws_4096_ol_1024</th>\n",
       "      <th>all</th>\n",
       "    </tr>\n",
       "  </thead>\n",
       "  <tbody>\n",
       "    <tr>\n",
       "      <th>239</th>\n",
       "      <td>13.414966</td>\n",
       "      <td>23.840338</td>\n",
       "      <td>116.792664</td>\n",
       "      <td>False</td>\n",
       "      <td>False</td>\n",
       "      <td>True</td>\n",
       "      <td>True</td>\n",
       "      <td>True</td>\n",
       "      <td>True</td>\n",
       "    </tr>\n",
       "    <tr>\n",
       "      <th>240</th>\n",
       "      <td>14.291867</td>\n",
       "      <td>23.963202</td>\n",
       "      <td>120.697786</td>\n",
       "      <td>False</td>\n",
       "      <td>False</td>\n",
       "      <td>False</td>\n",
       "      <td>True</td>\n",
       "      <td>False</td>\n",
       "      <td>True</td>\n",
       "    </tr>\n",
       "    <tr>\n",
       "      <th>241</th>\n",
       "      <td>11.142690</td>\n",
       "      <td>23.980065</td>\n",
       "      <td>109.399190</td>\n",
       "      <td>False</td>\n",
       "      <td>False</td>\n",
       "      <td>False</td>\n",
       "      <td>False</td>\n",
       "      <td>False</td>\n",
       "      <td>False</td>\n",
       "    </tr>\n",
       "    <tr>\n",
       "      <th>242</th>\n",
       "      <td>41.863286</td>\n",
       "      <td>23.988137</td>\n",
       "      <td>119.757160</td>\n",
       "      <td>False</td>\n",
       "      <td>False</td>\n",
       "      <td>False</td>\n",
       "      <td>False</td>\n",
       "      <td>True</td>\n",
       "      <td>True</td>\n",
       "    </tr>\n",
       "    <tr>\n",
       "      <th>243</th>\n",
       "      <td>10.481782</td>\n",
       "      <td>23.994520</td>\n",
       "      <td>118.218841</td>\n",
       "      <td>False</td>\n",
       "      <td>False</td>\n",
       "      <td>False</td>\n",
       "      <td>False</td>\n",
       "      <td>False</td>\n",
       "      <td>False</td>\n",
       "    </tr>\n",
       "  </tbody>\n",
       "</table>\n",
       "</div>"
      ],
      "text/plain": [
       "     Diameter (km)        Lat        Long ws_256_ol_64 ws_512_ol_128  \\\n",
       "239      13.414966  23.840338  116.792664        False         False   \n",
       "240      14.291867  23.963202  120.697786        False         False   \n",
       "241      11.142690  23.980065  109.399190        False         False   \n",
       "242      41.863286  23.988137  119.757160        False         False   \n",
       "243      10.481782  23.994520  118.218841        False         False   \n",
       "\n",
       "    ws_1024_ol_256 ws_2048_ol_512 ws_4096_ol_1024    all  \n",
       "239           True           True            True   True  \n",
       "240          False           True           False   True  \n",
       "241          False          False           False  False  \n",
       "242          False          False            True   True  \n",
       "243          False          False           False  False  "
      ]
     },
     "execution_count": 156,
     "metadata": {},
     "output_type": "execute_result"
    }
   ],
   "source": [
    "# crop_sizes_set = [[256, 64], [512, 128], [1024, 256], [2048, 512]]\n",
    "crop_sizes_set = [[256, 64], [512, 128], [1024, 256], [2048, 512], [4096, 1024]]\n",
    "\n",
    "# set_dir = '../../data/model_input_images/test1_SLDEM120_108_126_12_24'\n",
    "# craters1 = pd.read_csv(set_dir+'/craters_table.csv', header=0, names=['Diameter (km)', 'Lat', 'Long','1024','2048','512','256'])[['Diameter (km)', 'Lat', 'Long','256','512','1024','2048']]\n",
    "# set_dir = '../../data/model_input_images/test1_SLDEM60_before_108_126_12_24'\n",
    "# craters = pd.read_csv(set_dir+'/craters_table.csv', header=0, names=['Diameter (km)', 'Lat', 'Long','1024','2048','512','256','4096'])[['Diameter (km)', 'Lat', 'Long','256','512','1024','2048','4096']]\n",
    "set_dir = '../../data/model_input_images/test1_SLDEM60_after_108_126_12_24'\n",
    "craters = pd.read_csv(set_dir+'/craters_table.csv', header=0, names=['Diameter (km)', 'Lat', 'Long','1024','2048','512','256','4096'])[['Diameter (km)', 'Lat', 'Long','256','512','1024','2048','4096']]\n",
    "\n",
    "df = pd.DataFrame(data=craters.iloc[:,3:].values.astype('bool'), columns=[\"ws_{}_ol_{}\".format(crop[0], crop[1]) for crop in crop_sizes_set])\n",
    "df['all'] = df.any(axis=1)\n",
    "all_craters = craters1.iloc[:,0:3]\n",
    "df2=pd.concat([all_craters,df], axis=1)\n",
    "\n",
    "df2.to_csv (set_dir + '/craters_table.csv', index = None, header=True)\n",
    "df2.tail()"
   ]
  },
  {
   "cell_type": "code",
   "execution_count": 127,
   "metadata": {},
   "outputs": [
    {
     "data": {
      "text/plain": [
       "['ws_256_ol_64', 'ws_512_ol_128', 'ws_1024_ol_256', 'ws_2048_ol_512']"
      ]
     },
     "execution_count": 127,
     "metadata": {},
     "output_type": "execute_result"
    }
   ],
   "source": [
    "[\"ws_{}_ol_{}\".format(crop[0], crop[1]) for crop in crop_sizes_set]"
   ]
  },
  {
   "cell_type": "code",
   "execution_count": 130,
   "metadata": {},
   "outputs": [
    {
     "data": {
      "image/png": "[encoded data removed]",
      "text/plain": [
       "<Figure size 432x288 with 1 Axes>"
      ]
     },
     "metadata": {
      "needs_background": "light"
     },
     "output_type": "display_data"
    }
   ],
   "source": [
    "\n",
    "craters1['all'] = craters1.iloc[:,3:].any(axis=1)\n",
    "df = round(craters1.round().groupby('Diameter (km)').mean(),2)\n",
    "df.iloc[:,-1].plot()\n",
    "plt.xlim([5,40]);"
   ]
  },
  {
   "cell_type": "code",
   "execution_count": 16,
   "metadata": {},
   "outputs": [
    {
     "data": {
      "text/plain": [
       "array([  5.004609 ,  22.5692635,  40.133918 ,  57.6985725,  75.263227 ,\n",
       "        92.8278815, 110.392536 , 127.9571905, 145.521845 , 163.0864995,\n",
       "       180.651154 ])"
      ]
     },
     "execution_count": 16,
     "metadata": {},
     "output_type": "execute_result"
    }
   ],
   "source": [
    "(n,bins) = np.histogram(craters3['Diameter (km)'])\n",
    "bins\n",
    "# [mean()]"
   ]
  },
  {
   "cell_type": "code",
   "execution_count": 19,
   "metadata": {},
   "outputs": [
    {
     "data": {
      "text/plain": [
       "<matplotlib.image.AxesImage at 0x7f71aaf79a20>"
      ]
     },
     "execution_count": 19,
     "metadata": {},
     "output_type": "execute_result"
    },
    {
     "data": {
      "image/png": "[encoded data removed]",
      "text/plain": [
       "<Figure size 3600x72 with 1 Axes>"
      ]
     },
     "metadata": {
      "needs_background": "light"
     },
     "output_type": "display_data"
    }
   ],
   "source": [
    "plt.figure(figsize=(50,1))\n",
    "plt.imshow(craters2.iloc[:,3:].T)"
   ]
  },
  {
   "cell_type": "code",
   "execution_count": 60,
   "metadata": {},
   "outputs": [
    {
     "data": {
      "text/html": [
       "<div>\n",
       "<table border=\"1\" class=\"dataframe\">\n",
       "  <thead>\n",
       "    <tr style=\"text-align: right;\">\n",
       "      <th></th>\n",
       "      <th>Diameter (km)</th>\n",
       "      <th>Lat</th>\n",
       "      <th>Long</th>\n",
       "      <th>256</th>\n",
       "      <th>512</th>\n",
       "      <th>1024</th>\n",
       "      <th>2048</th>\n",
       "      <th>4096</th>\n",
       "    </tr>\n",
       "  </thead>\n",
       "  <tbody>\n",
       "    <tr>\n",
       "      <th>0</th>\n",
       "      <td>10.757335</td>\n",
       "      <td>12.002476</td>\n",
       "      <td>111.205182</td>\n",
       "      <td>1.0</td>\n",
       "      <td>1.0</td>\n",
       "      <td>0.0</td>\n",
       "      <td>0.0</td>\n",
       "      <td>0.0</td>\n",
       "    </tr>\n",
       "    <tr>\n",
       "      <th>1</th>\n",
       "      <td>9.063455</td>\n",
       "      <td>12.002476</td>\n",
       "      <td>109.912857</td>\n",
       "      <td>0.0</td>\n",
       "      <td>0.0</td>\n",
       "      <td>0.0</td>\n",
       "      <td>0.0</td>\n",
       "      <td>1.0</td>\n",
       "    </tr>\n",
       "    <tr>\n",
       "      <th>2</th>\n",
       "      <td>5.327966</td>\n",
       "      <td>12.089780</td>\n",
       "      <td>122.019350</td>\n",
       "      <td>0.0</td>\n",
       "      <td>1.0</td>\n",
       "      <td>0.0</td>\n",
       "      <td>0.0</td>\n",
       "      <td>1.0</td>\n",
       "    </tr>\n",
       "    <tr>\n",
       "      <th>3</th>\n",
       "      <td>66.189299</td>\n",
       "      <td>12.111050</td>\n",
       "      <td>125.483285</td>\n",
       "      <td>0.0</td>\n",
       "      <td>0.0</td>\n",
       "      <td>0.0</td>\n",
       "      <td>0.0</td>\n",
       "      <td>0.0</td>\n",
       "    </tr>\n",
       "    <tr>\n",
       "      <th>4</th>\n",
       "      <td>8.461981</td>\n",
       "      <td>12.239928</td>\n",
       "      <td>125.735586</td>\n",
       "      <td>1.0</td>\n",
       "      <td>1.0</td>\n",
       "      <td>0.0</td>\n",
       "      <td>0.0</td>\n",
       "      <td>1.0</td>\n",
       "    </tr>\n",
       "  </tbody>\n",
       "</table>\n",
       "</div>"
      ],
      "text/plain": [
       "   Diameter (km)        Lat        Long  256  512  1024  2048  4096\n",
       "0      10.757335  12.002476  111.205182  1.0  1.0   0.0   0.0   0.0\n",
       "1       9.063455  12.002476  109.912857  0.0  0.0   0.0   0.0   1.0\n",
       "2       5.327966  12.089780  122.019350  0.0  1.0   0.0   0.0   1.0\n",
       "3      66.189299  12.111050  125.483285  0.0  0.0   0.0   0.0   0.0\n",
       "4       8.461981  12.239928  125.735586  1.0  1.0   0.0   0.0   1.0"
      ]
     },
     "execution_count": 60,
     "metadata": {},
     "output_type": "execute_result"
    }
   ],
   "source": [
    "craters.head()"
   ]
  },
  {
   "cell_type": "code",
   "execution_count": 48,
   "metadata": {},
   "outputs": [
    {
     "data": {
      "image/png": "[encoded data removed]",
      "text/plain": [
       "<Figure size 576x360 with 1 Axes>"
      ]
     },
     "metadata": {
      "needs_background": "light"
     },
     "output_type": "display_data"
    }
   ],
   "source": [
    "plt.figure(figsize=(8,5))\n",
    "# plt.rcParams.update({'font.size': 20, 'text.color' : \"black\", 'axes.labelcolor' : \"white\", 'xtick.color': \"white\", 'ytick.color': \"white\"})\n",
    "\n",
    "craters1['Diameter (km)'].hist(range=(5,50),bins=50)\n",
    "# craters.loc[craters.iloc[:,5],'Diameter (km)'].hist(range=(5,50),bins=50, alpha=0.3)\n",
    "craters1.loc[craters1['256'].astype('bool'),'Diameter (km)'].hist(range=(5,50),bins=50, histtype='step', color='k')\n",
    "plt.legend(['Model','Catalog'],loc='lower right')\n",
    "plt.xlim([5,50]);"
   ]
  },
  {
   "cell_type": "code",
   "execution_count": 64,
   "metadata": {},
   "outputs": [
    {
     "data": {
      "text/plain": [
       "['../../data/model_input_images/test1_SLDEM60_after_108_126_12_24/ws_1024_ol_256',\n",
       " '../../data/model_input_images/test1_SLDEM60_after_108_126_12_24/ws_2048_ol_512',\n",
       " '../../data/model_input_images/test1_SLDEM60_after_108_126_12_24/ws_512_ol_128',\n",
       " '../../data/model_input_images/test1_SLDEM60_after_108_126_12_24/ws_256_ol_64',\n",
       " '../../data/model_input_images/test1_SLDEM60_after_108_126_12_24/ws_4096_ol_1024']"
      ]
     },
     "execution_count": 64,
     "metadata": {},
     "output_type": "execute_result"
    }
   ],
   "source": [
    "set_dir = '../../data/model_input_images/test1_SLDEM120_new_catalog_108_126_12_24'\n",
    "craters_new = pd.read_csv(set_dir+'/craters_table.csv')#, header=0, names=['Diameter (km)', 'Lat', 'Long','1024','2048','512','256'])\n",
    "set_dir = '../../data/model_input_images/test1_SLDEM120_108_126_12_24'\n",
    "craters_old = pd.read_csv(set_dir+'/craters_table.csv', header=0, names=['Diameter (km)', 'Lat', 'Long','1024','2048','512','256'])\n",
    "craters_new['Diameter (km)'].hist(range=(5,50),bins=50)\n",
    "craters_old['Diameter (km)'].hist(range=(5,50),bins=50)\n",
    "legend(['new','old'])"
   ]
  },
  {
   "cell_type": "code",
   "execution_count": 37,
   "metadata": {},
   "outputs": [
    {
     "name": "stdout",
     "output_type": "stream",
     "text": [
      "RECALL (%):\n",
      "window size (km)          :  [30, 60]   all \n",
      "map 120 m/pix, catalog old:  [58.2 73.1 79.1] \n",
      "map 120 m/pix, catalog new:   [2.  2.7 3.2] \n"
     ]
    }
   ],
   "source": [
    "set_dir = '../../data/model_input_images/test3_SLDEM120_old_catalog_108_117_12_18'\n",
    "craters_old = pd.read_csv(set_dir+'/craters_table.csv')\n",
    "set_dir = '../../data/model_input_images/test2_SLDEM120_new_catalog_108_117_12_18'\n",
    "craters_new = pd.read_csv(set_dir+'/craters_table.csv')\n",
    "crop_sizes_set = [[512, 128], [1024, 256]]\n",
    "\n",
    "print('RECALL (%):')\n",
    "print('window size (km)          :  {}   all '.format([int(round(crop[0]*60/1000,-1)) for crop in crop_sizes_set]))\n",
    "print('map 120 m/pix, catalog old:  {} '.format(craters_old.iloc[:,3:].mean(axis=0).values.round(3)*100)) \n",
    "print('map 120 m/pix, catalog new:   {} '.format(craters_new.iloc[:,3:].mean(axis=0).values.round(3)*100)) "
   ]
  },
  {
   "cell_type": "code",
   "execution_count": 12,
   "metadata": {},
   "outputs": [
    {
     "data": {
      "text/plain": [
       "0.674323"
      ]
     },
     "execution_count": 12,
     "metadata": {},
     "output_type": "execute_result"
    }
   ],
   "source": [
    "float(craters_new.loc[craters_new['Diameter (km)']<0.7,'Diameter (km)'].values[0])"
   ]
  },
  {
   "cell_type": "code",
   "execution_count": 318,
   "metadata": {},
   "outputs": [],
   "source": [
    "ctrs = pd.HDFStore(set_dir + '/ws_1024_ol_256/train_craters.hdf5', 'r')\n"
   ]
  },
  {
   "cell_type": "code",
   "execution_count": 365,
   "metadata": {},
   "outputs": [
    {
     "data": {
      "text/plain": [
       "array([[  8.014419,  14.637669, 108.627426],\n",
       "       [ 11.289912,  14.675577, 109.692301],\n",
       "       [ 10.557939,  14.728418, 111.905908],\n",
       "       [129.365072,  14.939197, 109.465022],\n",
       "       [  8.65474 ,  15.045469, 108.403423],\n",
       "       [ 11.93331 ,  15.133921, 111.971386],\n",
       "       [  5.442088,  15.521044, 108.935286],\n",
       "       [ 11.06134 ,  15.734708, 111.638254],\n",
       "       [  5.562578,  15.751939, 109.894478],\n",
       "       [  7.931825,  15.884043, 109.005359],\n",
       "       [  6.188873,  16.159739, 108.921501],\n",
       "       [ 15.311953,  16.253935, 108.579179],\n",
       "       [ 11.425175,  16.54916 , 111.413102],\n",
       "       [  8.090149,  17.023586, 109.163884],\n",
       "       [  6.730134,  17.128121, 109.948468],\n",
       "       [ 44.577621,  17.789375, 109.304089]])"
      ]
     },
     "execution_count": 365,
     "metadata": {},
     "output_type": "execute_result"
    }
   ],
   "source": [
    "my_craters=ctrs['img_00000']\n",
    "pixel_coordinates = pd.concat([my_craters[['x','y']], my_craters['Diameter (pix)']/2], axis=1).values\n",
    "# pixel_coordinates\n",
    "# pixel_coordinates[2] /= 2\n",
    "real_coordinates = my_craters[['Diameter (km)','Lat','Long']].values\n",
    "real_coordinates\n",
    "# pixel_coordinates\n",
    "# print((my_craters['Diameter (pix)']/2),my_craters[['x','y']].values)"
   ]
  },
  {
   "cell_type": "code",
   "execution_count": 42,
   "metadata": {},
   "outputs": [],
   "source": [
    "import detect_craters_with_model\n",
    "from keras.models import load_model\n",
    "from time import time\n",
    "import utils.processing as proc\n",
    "import utils.template_match_target as tmt\n",
    "\n",
    "model_path = '../../data/trained_model/Silburt/model_keras1.2.2.h5'\n",
    "#model_path = '../../data/trained_model/Silburt/model_keras2.h5'\n",
    "model = load_model(model_path)"
   ]
  },
  {
   "cell_type": "code",
   "execution_count": 67,
   "metadata": {},
   "outputs": [],
   "source": [
    "import h5py\n",
    "set_dir = '../../data/model_input_images/test3_SLDEM120_old_catalog_108_117_12_18'\n",
    "[sd_input_images,ctrs] = detect_craters_with_model.get_images_data_from_path(set_dir + '/ws_1024_ol_256')\n",
    "images = h5py.File(set_dir + '/ws_1024_ol_256' + '/train_images.hdf5', 'r')\n",
    "sample_data = {'imgs': [images['input_images'][...].astype('float32'),\n",
    "                        images['target_masks'][...].astype('float32')]}\n",
    "proc.preprocess(sample_data)\n",
    "sd_input_images = sample_data['imgs'][0]\n",
    "sd_target_masks = sample_data['imgs'][1]\n",
    "ctrs = pd.HDFStore(set_dir + '/ws_1024_ol_256' + '/train_craters.hdf5', 'r')\n",
    "pred = model.predict(sd_input_images)"
   ]
  },
  {
   "cell_type": "code",
   "execution_count": 71,
   "metadata": {},
   "outputs": [
    {
     "data": {
      "image/png": "[encoded data removed]",
      "text/plain": [
       "<Figure size 864x216 with 3 Axes>"
      ]
     },
     "metadata": {
      "needs_background": "light"
     },
     "output_type": "display_data"
    }
   ],
   "source": [
    "plt.figure(figsize=(12,3))\n",
    "i=2\n",
    "plt.subplot(131);plt.imshow(np.squeeze(sd_input_images[i,:,:]));plt.title('DEM')\n",
    "plt.subplot(132);plt.imshow(np.squeeze(sd_target_masks[i,:,:]));plt.title('target mask')\n",
    "plt.subplot(133);plt.imshow(pred[i]);plt.title('model prediction mask');"
   ]
  },
  {
   "cell_type": "code",
   "execution_count": 74,
   "metadata": {},
   "outputs": [
    {
     "data": {
      "text/plain": [
       "array([[210,   4,   2],\n",
       "       [248,   5,   2],\n",
       "       [191,  52,   2],\n",
       "       [195,  52,   2],\n",
       "       [213,  61,   2],\n",
       "       [218,  73,   2],\n",
       "       [193, 104,   2],\n",
       "       [ 64, 171,   2],\n",
       "       [ 70, 209,   2],\n",
       "       [ 43, 235,   2],\n",
       "       [104, 239,   2],\n",
       "       [ 43, 242,   2],\n",
       "       [ 13, 196,   3],\n",
       "       [ 32, 154,   5],\n",
       "       [164, 117,   6],\n",
       "       [203, 174,   8],\n",
       "       [150, 153,   9],\n",
       "       [246, 180,   9],\n",
       "       [216, 240,   9],\n",
       "       [109, 247,   9],\n",
       "       [150, 122,  10],\n",
       "       [195, 116,  11],\n",
       "       [ 45, 144,  11],\n",
       "       [153, 214,  10],\n",
       "       [243, 102,  12],\n",
       "       [ 65, 183,  13],\n",
       "       [227,   6,  21],\n",
       "       [ 22, 238,  22],\n",
       "       [193,  78,  25]])"
      ]
     },
     "execution_count": 74,
     "metadata": {},
     "output_type": "execute_result"
    }
   ],
   "source": [
    "predicted = tmt.template_match_t(pred[i], minrad=2.)\n",
    "predicted"
   ]
  },
  {
   "cell_type": "code",
   "execution_count": 75,
   "metadata": {},
   "outputs": [
    {
     "data": {
      "text/plain": [
       "array([[ 85,  48,   5],\n",
       "       [ 78, 241,   5],\n",
       "       [204, 174,   7],\n",
       "       [154, 212,   9],\n",
       "       [108, 245,   9],\n",
       "       [ 30,  92,  11],\n",
       "       [ 44, 144,  11],\n",
       "       [ 64, 183,  12]])"
      ]
     },
     "execution_count": 75,
     "metadata": {},
     "output_type": "execute_result"
    }
   ],
   "source": [
    "gt = tmt.template_match_t(np.squeeze(sd_target_masks[i,:,:]), minrad=2.)\n",
    "gt"
   ]
  },
  {
   "cell_type": "code",
   "execution_count": 88,
   "metadata": {},
   "outputs": [
    {
     "data": {
      "text/plain": [
       "array([[108., 245.,  10.],\n",
       "       [ 78., 242.,   6.],\n",
       "       [218., 240.,   9.],\n",
       "       [154., 213.,  10.],\n",
       "       [ 60., 209.,  11.],\n",
       "       [ 65., 183.,  13.],\n",
       "       [246., 181.,   9.],\n",
       "       [205., 174.,   8.],\n",
       "       [186., 157.,   8.],\n",
       "       [151., 153.,   9.],\n",
       "       [192., 153.,   6.],\n",
       "       [ 44., 145.,  12.],\n",
       "       [149., 122.,   9.],\n",
       "       [166., 118.,   6.],\n",
       "       [196., 117.,  11.],\n",
       "       [243., 102.,  12.],\n",
       "       [ 31.,  93.,  12.],\n",
       "       [191.,  78.,  25.],\n",
       "       [244.,  69.,  34.],\n",
       "       [ 86.,  49.,   6.],\n",
       "       [227.,   9.,  20.]])"
      ]
     },
     "execution_count": 88,
     "metadata": {},
     "output_type": "execute_result"
    }
   ],
   "source": [
    "my_craters = ctrs['img_0000{}'.format(i)]\n",
    "# np.concatenate([.iloc[:,3:5].round().values,ctrs['img_0000{}'.format(i)].iloc[:,5].round()],axis=1)\n",
    "pd.concat([my_craters[['x','y']], my_craters['Diameter (pix)']/2], axis=1).values.round()"
   ]
  },
  {
   "cell_type": "code",
   "execution_count": 292,
   "metadata": {},
   "outputs": [
    {
     "data": {
      "text/plain": [
       "<matplotlib.image.AxesImage at 0x7f717f4fd048>"
      ]
     },
     "execution_count": 292,
     "metadata": {},
     "output_type": "execute_result"
    },
    {
     "data": {
      "image/png": "[encoded data removed]",
      "text/plain": [
       "<Figure size 432x288 with 1 Axes>"
      ]
     },
     "metadata": {
      "needs_background": "light"
     },
     "output_type": "display_data"
    }
   ],
   "source": []
  },
  {
   "cell_type": "code",
   "execution_count": null,
   "metadata": {},
   "outputs": [],
   "source": []
  }
 ],
 "metadata": {
  "kernelspec": {
   "display_name": "Python 3",
   "language": "python",
   "name": "python3"
  },
  "language_info": {
   "codemirror_mode": {
    "name": "ipython",
    "version": 3
   },
   "file_extension": ".py",
   "mimetype": "text/x-python",
   "name": "python",
   "nbconvert_exporter": "python",
   "pygments_lexer": "ipython3",
   "version": "3.5.2"
  }
 },
 "nbformat": 4,
 "nbformat_minor": 2
}
