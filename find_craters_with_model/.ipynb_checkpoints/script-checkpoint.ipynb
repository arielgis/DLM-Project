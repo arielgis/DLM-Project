{
 "cells": [
  {
   "cell_type": "code",
   "execution_count": 1,
   "metadata": {},
   "outputs": [
    {
     "name": "stderr",
     "output_type": "stream",
     "text": [
      "Using TensorFlow backend.\n",
      "WARNING: Logging before flag parsing goes to stderr.\n",
      "W0923 18:45:44.300529 139812455970560 deprecation_wrapper.py:119] From /mnt/disks/disk0/anaconda3/lib/python3.7/site-packages/keras/backend/tensorflow_backend.py:517: The name tf.placeholder is deprecated. Please use tf.compat.v1.placeholder instead.\n",
      "\n",
      "W0923 18:45:44.323878 139812455970560 deprecation_wrapper.py:119] From /mnt/disks/disk0/anaconda3/lib/python3.7/site-packages/keras/backend/tensorflow_backend.py:4185: The name tf.truncated_normal is deprecated. Please use tf.random.truncated_normal instead.\n",
      "\n",
      "W0923 18:45:44.363218 139812455970560 deprecation_wrapper.py:119] From /mnt/disks/disk0/anaconda3/lib/python3.7/site-packages/keras/backend/tensorflow_backend.py:3976: The name tf.nn.max_pool is deprecated. Please use tf.nn.max_pool2d instead.\n",
      "\n",
      "W0923 18:45:44.479522 139812455970560 deprecation_wrapper.py:119] From /mnt/disks/disk0/anaconda3/lib/python3.7/site-packages/keras/backend/tensorflow_backend.py:2018: The name tf.image.resize_nearest_neighbor is deprecated. Please use tf.compat.v1.image.resize_nearest_neighbor instead.\n",
      "\n",
      "W0923 18:45:44.484302 139812455970560 deprecation_wrapper.py:119] From /mnt/disks/disk0/anaconda3/lib/python3.7/site-packages/keras/backend/tensorflow_backend.py:131: The name tf.get_default_graph is deprecated. Please use tf.compat.v1.get_default_graph instead.\n",
      "\n",
      "W0923 18:45:44.485328 139812455970560 deprecation_wrapper.py:119] From /mnt/disks/disk0/anaconda3/lib/python3.7/site-packages/keras/backend/tensorflow_backend.py:133: The name tf.placeholder_with_default is deprecated. Please use tf.compat.v1.placeholder_with_default instead.\n",
      "\n",
      "W0923 18:45:44.494814 139812455970560 deprecation.py:506] From /mnt/disks/disk0/anaconda3/lib/python3.7/site-packages/keras/backend/tensorflow_backend.py:3445: calling dropout (from tensorflow.python.ops.nn_ops) with keep_prob is deprecated and will be removed in a future version.\n",
      "Instructions for updating:\n",
      "Please use `rate` instead of `keep_prob`. Rate should be set to `rate = 1 - keep_prob`.\n",
      "W0923 18:45:44.921768 139812455970560 deprecation_wrapper.py:119] From /mnt/disks/disk0/anaconda3/lib/python3.7/site-packages/keras/backend/tensorflow_backend.py:174: The name tf.get_default_session is deprecated. Please use tf.compat.v1.get_default_session instead.\n",
      "\n",
      "W0923 18:45:45.720506 139812455970560 deprecation_wrapper.py:119] From /mnt/disks/disk0/anaconda3/lib/python3.7/site-packages/keras/optimizers.py:790: The name tf.train.Optimizer is deprecated. Please use tf.compat.v1.train.Optimizer instead.\n",
      "\n",
      "W0923 18:45:45.731236 139812455970560 deprecation.py:323] From /mnt/disks/disk0/anaconda3/lib/python3.7/site-packages/tensorflow/python/ops/nn_impl.py:180: add_dispatch_support.<locals>.wrapper (from tensorflow.python.ops.array_ops) is deprecated and will be removed in a future version.\n",
      "Instructions for updating:\n",
      "Use tf.where in 2.0, which has the same broadcast rule as np.where\n",
      "/mnt/disks/disk0/anaconda3/lib/python3.7/site-packages/keras/engine/saving.py:327: UserWarning: Error in loading the saved optimizer state. As a result, your model is starting with a freshly initialized optimizer.\n",
      "  warnings.warn('Error in loading the saved optimizer '\n"
     ]
    },
    {
     "ename": "NameError",
     "evalue": "name 'data_path' is not defined",
     "output_type": "error",
     "traceback": [
      "\u001b[0;31m---------------------------------------------------------------------------\u001b[0m",
      "\u001b[0;31mNameError\u001b[0m                                 Traceback (most recent call last)",
      "\u001b[0;32m<ipython-input-1-3685b35abf33>\u001b[0m in \u001b[0;36m<module>\u001b[0;34m\u001b[0m\n\u001b[1;32m     13\u001b[0m \u001b[0;34m\u001b[0m\u001b[0m\n\u001b[1;32m     14\u001b[0m \u001b[0mmodel\u001b[0m \u001b[0;34m=\u001b[0m \u001b[0mload_model\u001b[0m\u001b[0;34m(\u001b[0m\u001b[0;34m\"/mnt/disks/disk0/deep_moon_working_dir/data/Silburt/model_keras2.h5\"\u001b[0m\u001b[0;34m)\u001b[0m\u001b[0;34m\u001b[0m\u001b[0;34m\u001b[0m\u001b[0m\n\u001b[0;32m---> 15\u001b[0;31m \u001b[0mall_craters\u001b[0m \u001b[0;34m=\u001b[0m \u001b[0mpd\u001b[0m\u001b[0;34m.\u001b[0m\u001b[0mread_csv\u001b[0m\u001b[0;34m(\u001b[0m\u001b[0;34m'{}craters_table.csv'\u001b[0m\u001b[0;34m.\u001b[0m\u001b[0mformat\u001b[0m\u001b[0;34m(\u001b[0m\u001b[0mdata_path\u001b[0m\u001b[0;34m)\u001b[0m\u001b[0;34m)\u001b[0m\u001b[0;34m.\u001b[0m\u001b[0mround\u001b[0m\u001b[0;34m(\u001b[0m\u001b[0;36m6\u001b[0m\u001b[0;34m)\u001b[0m\u001b[0;34m\u001b[0m\u001b[0;34m\u001b[0m\u001b[0m\n\u001b[0m\u001b[1;32m     16\u001b[0m \u001b[0mf\u001b[0m \u001b[0;34m=\u001b[0m \u001b[0;34m'../../data/test_coordinates_-63_-45_-18_-6/ws_2000_ol_400'\u001b[0m\u001b[0;34m\u001b[0m\u001b[0;34m\u001b[0m\u001b[0m\n\u001b[1;32m     17\u001b[0m \u001b[0marr\u001b[0m \u001b[0;34m=\u001b[0m \u001b[0mdetect_craters_with_model\u001b[0m\u001b[0;34m.\u001b[0m\u001b[0mget_detected_craters_from_path\u001b[0m\u001b[0;34m(\u001b[0m\u001b[0mall_craters\u001b[0m\u001b[0;34m,\u001b[0m \u001b[0mf\u001b[0m\u001b[0;34m,\u001b[0m \u001b[0mmodel\u001b[0m\u001b[0;34m)\u001b[0m\u001b[0;34m\u001b[0m\u001b[0;34m\u001b[0m\u001b[0m\n",
      "\u001b[0;31mNameError\u001b[0m: name 'data_path' is not defined"
     ]
    }
   ],
   "source": [
    "import os\n",
    "import h5py\n",
    "import sys\n",
    "import pandas as pd\n",
    "from keras.models import load_model\n",
    "import score_utils as sc\n",
    "import numpy as np\n",
    "import detect_craters_with_model\n",
    "\n",
    "sys.path.append('../../DeepMoon/')\n",
    "import utils.processing as proc\n",
    "import utils.template_match_target as tmt\n",
    "\n",
    "model = load_model(\"/mnt/disks/disk0/deep_moon_working_dir/data/Silburt/model_keras2.h5\")\n",
    "data_path = '../../data/test_coordinates_-63_-45_-18_-6/'\n",
    "all_craters = pd.read_csv('{}craters_table.csv'.format(data_path)).round(6)\n",
    "f = '{}ws_2000_ol_400'.format(data_path)\n",
    "arr = detect_craters_with_model.get_detected_craters_from_path(all_craters, f, model)\n",
    "print(arr)\n",
    "\n",
    "\n",
    "\n"
   ]
  },
  {
   "cell_type": "code",
   "execution_count": 78,
   "metadata": {},
   "outputs": [],
   "source": [
    "def get_images_data_from_path(data_path):\n",
    "    images = h5py.File(data_path + '/train_images.hdf5', 'r')\n",
    "    sample_data = {'imgs': [images['input_images'][...].astype('float32'),\n",
    "                        images['target_masks'][...].astype('float32')]}\n",
    "    proc.preprocess(sample_data)\n",
    "    sd_input_images = sample_data['imgs'][0]\n",
    "    sd_target_masks = sample_data['imgs'][1]\n",
    "    ctrs = pd.HDFStore(data_path + '/train_craters.hdf5', 'r')\n",
    "    return [sd_input_images,ctrs]\n",
    "\n",
    "\n",
    "def get_craters_from_database(ctrs, image_id):\n",
    "    #zeropad = int(np.log10(amt)) + 1    \n",
    "    #my_craters = ctrs[\"img_{i:0{zp}d}\".format(i=image_id, zp=zeropad)]\n",
    "    my_craters = ctrs[\"/img_{:05d}\".format(image_id)]\n",
    "    labeled_craters = []\n",
    "    for index, row in my_craters.iterrows():\n",
    "        labeled_craters.append([int(round(row['x'])), int(round(row['y'])), int(round(row['Diameter (pix)'])/2)])\n",
    "    return labeled_craters\n",
    "\n",
    "\n",
    "def detect_craters_with_model(model, sd_input_images, ctrs):\n",
    "    pred = model.predict(sd_input_images)    \n",
    "    images_count = len(sd_input_images)     \n",
    "    for i in range(images_count):\n",
    "        print(i)\n",
    "        labeled = get_craters_from_database(ctrs, i)\n",
    "        predicted = tmt.template_match_t(pred[i].copy(), minrad=2.)\n",
    "\n",
    "def get_detected_craters_from_path(all_craters, f):\n",
    "    [sd_input_images,ctrs] = get_images_data_from_path(f)\n",
    "    pred = model.predict(sd_input_images)\n",
    "    images_count = len(sd_input_images)   \n",
    "    n = len(all_craters)\n",
    "    arr = np.zeros(n,dtype='bool')\n",
    "    for i in range(images_count):\n",
    "        my_craters = ctrs[\"/img_{:05d}\".format(i)]\n",
    "        labeled_craters = []\n",
    "        real_coordinates = []\n",
    "        for index, row in my_craters.iterrows():\n",
    "            labeled_craters.append([int(round(row['x'])), int(round(row['y'])), int(round(row['Diameter (pix)'])/2)])\n",
    "            real_coordinates.append([row['Diameter (km)'], row['Lat'],row['Long'],])\n",
    "        real_coordinates = np.array(real_coordinates)\n",
    "        predicted = tmt.template_match_t(pred[i].copy(), minrad=2.)\n",
    "        [match, fn, fp] = sc.match_circle_lists(labeled_craters, predicted,0.1)\n",
    "        matched_craters = [x[0] for x in match]\n",
    "        for x in real_coordinates[matched_craters]:\n",
    "            I = (all_craters['Diameter (km)'] == x[0]) & (all_craters['Lat'] == x[1]) & (all_craters['Long'] == x[2])\n",
    "            ind = all_craters.index[I]\n",
    "            assert len(ind)==1\n",
    "            arr[ind] = True\n",
    "    return arr\n",
    "    \n"
   ]
  },
  {
   "cell_type": "code",
   "execution_count": 80,
   "metadata": {},
   "outputs": [
    {
     "name": "stdout",
     "output_type": "stream",
     "text": [
      "[False  True  True  True False False  True False  True  True  True  True\n",
      " False  True  True  True  True  True  True False  True  True  True  True\n",
      " False False  True  True  True False  True  True False  True  True False\n",
      "  True False  True  True  True  True  True False False  True  True False\n",
      " False False False  True False False False  True  True False  True False\n",
      " False  True  True False  True False False  True]\n"
     ]
    }
   ],
   "source": [
    "\n",
    "print(arr)\n",
    "\n"
   ]
  },
  {
   "cell_type": "code",
   "execution_count": null,
   "metadata": {},
   "outputs": [],
   "source": []
  }
 ],
 "metadata": {
  "kernelspec": {
   "display_name": "Python 3",
   "language": "python",
   "name": "python3"
  },
  "language_info": {
   "codemirror_mode": {
    "name": "ipython",
    "version": 3
   },
   "file_extension": ".py",
   "mimetype": "text/x-python",
   "name": "python",
   "nbconvert_exporter": "python",
   "pygments_lexer": "ipython3",
   "version": "3.7.3"
  }
 },
 "nbformat": 4,
 "nbformat_minor": 2
}
