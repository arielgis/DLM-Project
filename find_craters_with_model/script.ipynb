{
 "cells": [
  {
   "cell_type": "code",
   "execution_count": 29,
   "metadata": {},
   "outputs": [],
   "source": [
    "import os\n",
    "import h5py\n",
    "import sys\n",
    "import pandas as pd\n",
    "from keras.models import load_model\n",
    "import score_utils as sc\n",
    "import numpy as np\n",
    "\n",
    "sys.path.append('../../DeepMoon/')\n",
    "import utils.processing as proc\n",
    "import utils.template_match_target as tmt\n",
    "\n"
   ]
  },
  {
   "cell_type": "code",
   "execution_count": 78,
   "metadata": {},
   "outputs": [],
   "source": [
    "def get_images_data_from_path(data_path):\n",
    "    images = h5py.File(data_path + '/train_images.hdf5', 'r')\n",
    "    sample_data = {'imgs': [images['input_images'][...].astype('float32'),\n",
    "                        images['target_masks'][...].astype('float32')]}\n",
    "    proc.preprocess(sample_data)\n",
    "    sd_input_images = sample_data['imgs'][0]\n",
    "    sd_target_masks = sample_data['imgs'][1]\n",
    "    ctrs = pd.HDFStore(data_path + '/train_craters.hdf5', 'r')\n",
    "    return [sd_input_images,ctrs]\n",
    "\n",
    "\n",
    "def get_craters_from_database(ctrs, image_id):\n",
    "    #zeropad = int(np.log10(amt)) + 1    \n",
    "    #my_craters = ctrs[\"img_{i:0{zp}d}\".format(i=image_id, zp=zeropad)]\n",
    "    my_craters = ctrs[\"/img_{:05d}\".format(image_id)]\n",
    "    labeled_craters = []\n",
    "    for index, row in my_craters.iterrows():\n",
    "        labeled_craters.append([int(round(row['x'])), int(round(row['y'])), int(round(row['Diameter (pix)'])/2)])\n",
    "    return labeled_craters\n",
    "\n",
    "\n",
    "def detect_craters_with_model(model, sd_input_images, ctrs):\n",
    "    pred = model.predict(sd_input_images)    \n",
    "    images_count = len(sd_input_images)     \n",
    "    for i in range(images_count):\n",
    "        print(i)\n",
    "        labeled = get_craters_from_database(ctrs, i)\n",
    "        predicted = tmt.template_match_t(pred[i].copy(), minrad=2.)\n",
    "\n",
    "def get_detected_craters_from_path(all_craters, f):\n",
    "    [sd_input_images,ctrs] = get_images_data_from_path(f)\n",
    "    pred = model.predict(sd_input_images)\n",
    "    images_count = len(sd_input_images)   \n",
    "    n = len(all_craters)\n",
    "    arr = np.zeros(n,dtype='bool')\n",
    "    for i in range(images_count):\n",
    "        my_craters = ctrs[\"/img_{:05d}\".format(i)]\n",
    "        labeled_craters = []\n",
    "        real_coordinates = []\n",
    "        for index, row in my_craters.iterrows():\n",
    "            labeled_craters.append([int(round(row['x'])), int(round(row['y'])), int(round(row['Diameter (pix)'])/2)])\n",
    "            real_coordinates.append([row['Diameter (km)'], row['Lat'],row['Long'],])\n",
    "        real_coordinates = np.array(real_coordinates)\n",
    "        predicted = tmt.template_match_t(pred[i].copy(), minrad=2.)\n",
    "        [match, fn, fp] = sc.match_circle_lists(labeled_craters, predicted,0.1)\n",
    "        matched_craters = [x[0] for x in match]\n",
    "        for x in real_coordinates[matched_craters]:\n",
    "            I = (all_craters['Diameter (km)'] == x[0]) & (all_craters['Lat'] == x[1]) & (all_craters['Long'] == x[2])\n",
    "            ind = all_craters.index[I]\n",
    "            assert len(ind)==1\n",
    "            arr[ind] = True\n",
    "    return arr\n",
    "    \n"
   ]
  },
  {
   "cell_type": "code",
   "execution_count": 80,
   "metadata": {},
   "outputs": [
    {
     "name": "stdout",
     "output_type": "stream",
     "text": [
      "[False  True  True  True False False  True False  True  True  True  True\n",
      " False  True  True  True  True  True  True False  True  True  True  True\n",
      " False False  True  True  True False  True  True False  True  True False\n",
      "  True False  True  True  True  True  True False False  True  True False\n",
      " False False False  True False False False  True  True False  True False\n",
      " False  True  True False  True False False  True]\n"
     ]
    }
   ],
   "source": [
    "all_craters = pd.read_csv('{}craters_table.csv'.format(data_path)).round(6)\n",
    "f = '../../data/test_coordinates_-63_-45_-18_-6/ws_2000_ol_400'\n",
    "arr = get_detected_craters_from_path(all_craters, f)\n",
    "print(arr)\n",
    "\n"
   ]
  },
  {
   "cell_type": "code",
   "execution_count": null,
   "metadata": {},
   "outputs": [],
   "source": []
  }
 ],
 "metadata": {
  "kernelspec": {
   "display_name": "Python 3",
   "language": "python",
   "name": "python3"
  },
  "language_info": {
   "codemirror_mode": {
    "name": "ipython",
    "version": 3
   },
   "file_extension": ".py",
   "mimetype": "text/x-python",
   "name": "python",
   "nbconvert_exporter": "python",
   "pygments_lexer": "ipython3",
   "version": "3.7.3"
  }
 },
 "nbformat": 4,
 "nbformat_minor": 2
}
