{
 "cells": [
  {
   "cell_type": "markdown",
   "metadata": {},
   "source": [
    "# Create sets, Run model and Compare"
   ]
  },
  {
   "cell_type": "code",
   "execution_count": 2,
   "metadata": {},
   "outputs": [],
   "source": [
    "import sys\n",
    "import pandas as pd\n",
    "import numpy as np\n",
    "from time import time\n",
    "pathstoadd = ['../find_craters_with_model/','../data_preparation/','../utils/']\n",
    "[sys.path.append(dir) for dir in pathstoadd]\n",
    "import create_and_run"
   ]
  },
  {
   "cell_type": "markdown",
   "metadata": {},
   "source": [
    "## 1. 120 m/pix map: "
   ]
  },
  {
   "cell_type": "code",
   "execution_count": 3,
   "metadata": {},
   "outputs": [
    {
     "name": "stdout",
     "output_type": "stream",
     "text": [
      "images size is (4608, 3072)\n",
      "../../data/model_input_images/test1_SLDEM120_108_126_12_24\n",
      "generating 384 images for win_size 256 and overlap_size 64\n",
      "Time elapsed: 73.4 sec\n",
      "generating 96 images for win_size 512 and overlap_size 128\n",
      "Time elapsed: 18.4 sec\n",
      "generating 24 images for win_size 1024 and overlap_size 256\n",
      "Time elapsed: 4.6 sec\n",
      "generating 6 images for win_size 2048 and overlap_size 512\n",
      "Time elapsed: 1.2 sec\n",
      "Scoring ...\n",
      "../../data/model_input_images/test1_SLDEM120_108_126_12_24/ws_1024_ol_256\n"
     ]
    },
    {
     "name": "stderr",
     "output_type": "stream",
     "text": [
      "/home/grosman/DLM-Project/deep_crater_env/lib/python3.5/site-packages/skimage/feature/template.py:171: FutureWarning: Using a non-tuple sequence for multidimensional indexing is deprecated; use `arr[tuple(seq)]` instead of `arr[seq]`. In the future this will be interpreted as an array index, `arr[np.array(seq)]`, which will result either in an error or a different result.\n",
      "  return response[slices]\n"
     ]
    },
    {
     "name": "stdout",
     "output_type": "stream",
     "text": [
      "Time elapsed 43.27 sec\n",
      "../../data/model_input_images/test1_SLDEM120_108_126_12_24/ws_2048_ol_512\n",
      "Time elapsed 12.02 sec\n",
      "../../data/model_input_images/test1_SLDEM120_108_126_12_24/ws_512_ol_128\n",
      "Time elapsed 169.23 sec\n",
      "../../data/model_input_images/test1_SLDEM120_108_126_12_24/ws_256_ol_64\n",
      "Time elapsed 672.70 sec\n"
     ]
    }
   ],
   "source": [
    "source_cdim = [-180., 180., -60., 60.]\n",
    "source_image_path = \"../../data/maps/LunarLROLrocKaguya_118mperpix.png\"\n",
    "crop_sizes_set = [[256, 64], [512, 128], [1024, 256], [2048, 512]]\n",
    "head_dir = 'test1_SLDEM120'\n",
    "compression = 'before'\n",
    "\n",
    "tic=time()\n",
    "set_dir = create_and_run.create_complete_set(source_image_path, source_cdim, head_dir, crop_sizes_set, compression)\n",
    "results = create_and_run.find_all_craters(set_dir, crop_sizes_set)\n",
    "print('All proccess took {:.2f} min.'.format((time()-tic)/60.))\n",
    "\n",
    "craters = pd.read_csv(set_dir+'/craters_table.csv')\n",
    "craters.tail()"
   ]
  },
  {
   "cell_type": "code",
   "execution_count": 4,
   "metadata": {},
   "outputs": [
    {
     "data": {
      "text/html": [
       "<div>\n",
       "<table border=\"1\" class=\"dataframe\">\n",
       "  <thead>\n",
       "    <tr style=\"text-align: right;\">\n",
       "      <th></th>\n",
       "      <th>Diameter (km)</th>\n",
       "      <th>Lat</th>\n",
       "      <th>Long</th>\n",
       "      <th>256</th>\n",
       "      <th>512</th>\n",
       "      <th>1024</th>\n",
       "      <th>2048</th>\n",
       "    </tr>\n",
       "  </thead>\n",
       "  <tbody>\n",
       "    <tr>\n",
       "      <th>239</th>\n",
       "      <td>13.414966</td>\n",
       "      <td>23.840338</td>\n",
       "      <td>116.792664</td>\n",
       "      <td>1.0</td>\n",
       "      <td>1.0</td>\n",
       "      <td>1.0</td>\n",
       "      <td>0.0</td>\n",
       "    </tr>\n",
       "    <tr>\n",
       "      <th>240</th>\n",
       "      <td>14.291867</td>\n",
       "      <td>23.963202</td>\n",
       "      <td>120.697786</td>\n",
       "      <td>1.0</td>\n",
       "      <td>0.0</td>\n",
       "      <td>1.0</td>\n",
       "      <td>0.0</td>\n",
       "    </tr>\n",
       "    <tr>\n",
       "      <th>241</th>\n",
       "      <td>11.142690</td>\n",
       "      <td>23.980065</td>\n",
       "      <td>109.399190</td>\n",
       "      <td>1.0</td>\n",
       "      <td>0.0</td>\n",
       "      <td>0.0</td>\n",
       "      <td>0.0</td>\n",
       "    </tr>\n",
       "    <tr>\n",
       "      <th>242</th>\n",
       "      <td>41.863286</td>\n",
       "      <td>23.988137</td>\n",
       "      <td>119.757160</td>\n",
       "      <td>0.0</td>\n",
       "      <td>1.0</td>\n",
       "      <td>0.0</td>\n",
       "      <td>0.0</td>\n",
       "    </tr>\n",
       "    <tr>\n",
       "      <th>243</th>\n",
       "      <td>10.481782</td>\n",
       "      <td>23.994520</td>\n",
       "      <td>118.218841</td>\n",
       "      <td>0.0</td>\n",
       "      <td>0.0</td>\n",
       "      <td>0.0</td>\n",
       "      <td>0.0</td>\n",
       "    </tr>\n",
       "  </tbody>\n",
       "</table>\n",
       "</div>"
      ],
      "text/plain": [
       "     Diameter (km)        Lat        Long  256  512  1024  2048\n",
       "239      13.414966  23.840338  116.792664  1.0  1.0   1.0   0.0\n",
       "240      14.291867  23.963202  120.697786  1.0  0.0   1.0   0.0\n",
       "241      11.142690  23.980065  109.399190  1.0  0.0   0.0   0.0\n",
       "242      41.863286  23.988137  119.757160  0.0  1.0   0.0   0.0\n",
       "243      10.481782  23.994520  118.218841  0.0  0.0   0.0   0.0"
      ]
     },
     "execution_count": 4,
     "metadata": {},
     "output_type": "execute_result"
    }
   ],
   "source": [
    "craters = pd.read_csv(set_dir+'/craters_table.csv')\n",
    "craters.tail()"
   ]
  },
  {
   "cell_type": "code",
   "execution_count": 20,
   "metadata": {},
   "outputs": [
    {
     "name": "stdout",
     "output_type": "stream",
     "text": [
      "RECALL (%):\n",
      "window size (km)    : [ 30.72  61.44 122.88 245.76]\n",
      "for 120 m/pix, 8-bit: [72.1 77.9 57.4 15.2] | over all: 0.852\n"
     ]
    }
   ],
   "source": [
    "print('RECALL (%):')\n",
    "print('window size (km)    : {}'.format(np.array([256,512,1024,2048])*120/1000))\n",
    "print('for 120 m/pix, 8-bit: {} | over all: {}'.format(craters.iloc[:,3:].mean(axis=0).values.round(3)*100,craters.iloc[:,3:].any(axis=1).mean().round(3)))  #(2000,500,1000,3072)\n",
    "# print('for 60 m/pix, before: {} | over all: {}'.format(mat_SLDEM_before[:,[3,0,1,2]].mean(axis=0),mat_SLDEM_before.any(axis=1).mean())) #(2000,4000,6144,1000)\n",
    "# print('for 60 m/pix, after: {} | over all: {}'.format(mat_SLDEM_after[:,[3,0,1,2]].mean(axis=0),mat_SLDEM_after.any(axis=1).mean()))"
   ]
  },
  {
   "cell_type": "code",
   "execution_count": 24,
   "metadata": {},
   "outputs": [
    {
     "data": {
      "text/plain": [
       "<matplotlib.image.AxesImage at 0x7f4604195828>"
      ]
     },
     "execution_count": 24,
     "metadata": {},
     "output_type": "execute_result"
    },
    {
     "data": {
      "image/png": "[encoded data removed]",
      "text/plain": [
       "<Figure size 432x288 with 1 Axes>"
      ]
     },
     "metadata": {
      "needs_background": "light"
     },
     "output_type": "display_data"
    }
   ],
   "source": [
    "import matplotlib.pyplot as plt\n",
    "plt.imshow(craters.iloc[:,3:].T)"
   ]
  },
  {
   "cell_type": "code",
   "execution_count": null,
   "metadata": {},
   "outputs": [],
   "source": [
    "source_cdim = [90., 135., 0., 30.]\n",
    "# os.system('wget -P ../../data/maps http://pds-geosciences.wustl.edu/lro/lro-l-lola-3-rdr-v1/lrolol_1xxx/data/sldem2015/tiles/jp2/sldem2015_512_00n_30n_090_135.jp2')\n",
    "source_image_path = \"../../data/maps/sldem2015_512_00n_30n_090_135.jp2\"\n",
    "crop_sizes_set = [[256, 64], [512, 128], [1024, 256], [2048, 512], [4096, 1024]]\n",
    "head_dir = 'test1_SLDEM60_before'\n",
    "compression = 'before'\n",
    "\n",
    "tic=time()\n",
    "set_dir = create_and_run.create_complete_set(source_image_path, source_cdim, head_dir, crop_sizes_set, compression)\n",
    "results = create_and_run.find_all_craters(set_dir, crop_sizes_set)\n",
    "print('All proccess took {:.2f} min.'.format((time()-tic)/60.))\n",
    "      \n",
    "craters = pd.read_csv(set_dir+'/craters_table.csv')\n",
    "craters.tail()"
   ]
  },
  {
   "cell_type": "code",
   "execution_count": null,
   "metadata": {},
   "outputs": [],
   "source": [
    "source_cdim = [90., 135., 0., 30.]\n",
    "# os.system('wget -P ../../data/maps http://pds-geosciences.wustl.edu/lro/lro-l-lola-3-rdr-v1/lrolol_1xxx/data/sldem2015/tiles/jp2/sldem2015_512_00n_30n_090_135.jp2')\n",
    "source_image_path = \"../../data/maps/sldem2015_512_00n_30n_090_135.jp2\"\n",
    "crop_sizes_set = [[256, 64], [512, 128], [1024, 256], [2048, 512], [4096, 1024]]\n",
    "head_dir = 'test1_SLDEM60_before'\n",
    "compression = 'before'\n",
    "\n",
    "tic=time()\n",
    "set_dir = create_and_run.create_complete_set(source_image_path, source_cdim, head_dir, crop_sizes_set, compression)\n",
    "results = create_and_run.find_all_craters(set_dir, crop_sizes_set)\n",
    "print('All proccess took {:.2f} min.'.format((time()-tic)/60.))\n",
    "\n",
    "craters = pd.read_csv(set_dir+'/craters_table.csv')\n",
    "craters.tail()"
   ]
  },
  {
   "cell_type": "code",
   "execution_count": null,
   "metadata": {},
   "outputs": [],
   "source": [
    "all_craters.loc[:,'Diameter (km)'].hist(range=(5,180),bins=50)\n",
    "all_craters.loc[arr,'Diameter (km)'].hist(range=(5,180),bins=50)"
   ]
  }
 ],
 "metadata": {
  "kernelspec": {
   "display_name": "Python 3",
   "language": "python",
   "name": "python3"
  },
  "language_info": {
   "codemirror_mode": {
    "name": "ipython",
    "version": 3
   },
   "file_extension": ".py",
   "mimetype": "text/x-python",
   "name": "python",
   "nbconvert_exporter": "python",
   "pygments_lexer": "ipython3",
   "version": "3.5.2"
  }
 },
 "nbformat": 4,
 "nbformat_minor": 2
}
