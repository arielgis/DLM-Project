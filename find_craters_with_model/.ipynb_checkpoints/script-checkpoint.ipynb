{
 "cells": [
  {
   "cell_type": "code",
   "execution_count": 2,
   "metadata": {},
   "outputs": [],
   "source": [
    "import os\n",
    "from keras.models import load_model\n",
    "import pandas as pd\n",
    "import matplotlib.pyplot as plt\n",
    "import numpy as np\n",
    "import detect_craters_with_model"
   ]
  },
  {
   "cell_type": "code",
   "execution_count": 3,
   "metadata": {},
   "outputs": [
    {
     "name": "stderr",
     "output_type": "stream",
     "text": [
      "WARNING: Logging before flag parsing goes to stderr.\n",
      "W0924 07:01:09.340148 140582794675968 deprecation_wrapper.py:119] From /mnt/disks/disk0/anaconda3/lib/python3.7/site-packages/keras/backend/tensorflow_backend.py:321: The name tf.placeholder is deprecated. Please use tf.compat.v1.placeholder instead.\n",
      "\n",
      "W0924 07:01:09.531832 140582794675968 deprecation.py:506] From /mnt/disks/disk0/anaconda3/lib/python3.7/site-packages/keras/backend/tensorflow_backend.py:673: calling RandomNormal.__init__ (from tensorflow.python.ops.init_ops) with dtype is deprecated and will be removed in a future version.\n",
      "Instructions for updating:\n",
      "Call initializer instance with the dtype argument instead of passing it to the constructor\n",
      "W0924 07:01:09.565730 140582794675968 deprecation.py:506] From /mnt/disks/disk0/anaconda3/lib/python3.7/site-packages/keras/backend/tensorflow_backend.py:1029: calling reduce_sum_v1 (from tensorflow.python.ops.math_ops) with keep_dims is deprecated and will be removed in a future version.\n",
      "Instructions for updating:\n",
      "keep_dims is deprecated, use keepdims instead\n",
      "W0924 07:01:09.594066 140582794675968 deprecation.py:506] From /mnt/disks/disk0/anaconda3/lib/python3.7/site-packages/keras/backend/tensorflow_backend.py:491: calling Constant.__init__ (from tensorflow.python.ops.init_ops) with dtype is deprecated and will be removed in a future version.\n",
      "Instructions for updating:\n",
      "Call initializer instance with the dtype argument instead of passing it to the constructor\n",
      "W0924 07:01:09.681947 140582794675968 deprecation_wrapper.py:119] From /mnt/disks/disk0/anaconda3/lib/python3.7/site-packages/keras/backend/tensorflow_backend.py:2866: The name tf.nn.max_pool is deprecated. Please use tf.nn.max_pool2d instead.\n",
      "\n",
      "W0924 07:01:09.810640 140582794675968 deprecation_wrapper.py:119] From /mnt/disks/disk0/anaconda3/lib/python3.7/site-packages/keras/backend/tensorflow_backend.py:1506: The name tf.image.resize_nearest_neighbor is deprecated. Please use tf.compat.v1.image.resize_nearest_neighbor instead.\n",
      "\n",
      "W0924 07:01:09.815970 140582794675968 deprecation_wrapper.py:119] From /mnt/disks/disk0/anaconda3/lib/python3.7/site-packages/keras/backend/tensorflow_backend.py:73: The name tf.get_default_graph is deprecated. Please use tf.compat.v1.get_default_graph instead.\n",
      "\n",
      "W0924 07:01:09.823241 140582794675968 deprecation.py:506] From /mnt/disks/disk0/anaconda3/lib/python3.7/site-packages/keras/backend/tensorflow_backend.py:2516: calling dropout (from tensorflow.python.ops.nn_ops) with keep_prob is deprecated and will be removed in a future version.\n",
      "Instructions for updating:\n",
      "Please use `rate` instead of `keep_prob`. Rate should be set to `rate = 1 - keep_prob`.\n",
      "W0924 07:01:11.276989 140582794675968 deprecation_wrapper.py:119] From /mnt/disks/disk0/anaconda3/lib/python3.7/site-packages/keras/backend/tensorflow_backend.py:112: The name tf.get_default_session is deprecated. Please use tf.compat.v1.get_default_session instead.\n",
      "\n",
      "W0924 07:01:11.278356 140582794675968 deprecation_wrapper.py:119] From /mnt/disks/disk0/anaconda3/lib/python3.7/site-packages/keras/backend/tensorflow_backend.py:117: The name tf.ConfigProto is deprecated. Please use tf.compat.v1.ConfigProto instead.\n",
      "\n",
      "W0924 07:01:11.279776 140582794675968 deprecation_wrapper.py:119] From /mnt/disks/disk0/anaconda3/lib/python3.7/site-packages/keras/backend/tensorflow_backend.py:122: The name tf.Session is deprecated. Please use tf.compat.v1.Session instead.\n",
      "\n",
      "W0924 07:01:13.505520 140582794675968 deprecation_wrapper.py:119] From /mnt/disks/disk0/anaconda3/lib/python3.7/site-packages/keras/optimizers.py:658: The name tf.train.Optimizer is deprecated. Please use tf.compat.v1.train.Optimizer instead.\n",
      "\n",
      "W0924 07:01:13.514853 140582794675968 deprecation.py:323] From /mnt/disks/disk0/anaconda3/lib/python3.7/site-packages/tensorflow/python/ops/nn_impl.py:180: add_dispatch_support.<locals>.wrapper (from tensorflow.python.ops.array_ops) is deprecated and will be removed in a future version.\n",
      "Instructions for updating:\n",
      "Use tf.where in 2.0, which has the same broadcast rule as np.where\n"
     ]
    }
   ],
   "source": [
    "model_path = '/mnt/disks/disk0/deep_moon_working_dir/data/Silburt/model_keras1.2.2.h5'\n",
    "#model_path = '/mnt/disks/disk0/deep_moon_working_dir/data/Silburt/model_keras2.h5'\n",
    "model = load_model(model_path)\n"
   ]
  },
  {
   "cell_type": "code",
   "execution_count": 5,
   "metadata": {},
   "outputs": [],
   "source": [
    "data_path = '../../data/test_coordinates_-63_-45_-18_-6/'\n",
    "all_craters = pd.read_csv('{}craters_table.csv'.format(data_path)).round(6).sort_values(by=['Diameter (km)'])"
   ]
  },
  {
   "cell_type": "code",
   "execution_count": null,
   "metadata": {},
   "outputs": [
    {
     "name": "stdout",
     "output_type": "stream",
     "text": [
      "../../data/test_coordinates_-63_-45_-18_-6/ws_2000_ol_400\n",
      "../../data/test_coordinates_-63_-45_-18_-6/ws_3072_ol_600\n",
      "../../data/test_coordinates_-63_-45_-18_-6/ws_1000_ol_200\n"
     ]
    }
   ],
   "source": [
    "import numpy as np\n",
    "craters_num = len(all_craters)\n",
    "all_folders = [x[0] for x in os.walk(data_path)][1:]\n",
    "folders_num = len(all_folders)\n",
    "mat = np.zeros((craters_num, folders_num))\n",
    "for i in range(folders_num):\n",
    "    f = all_folders[i]\n",
    "    print(f)\n",
    "    arr = detect_craters_with_model.get_detected_craters_from_path(all_craters, f, model)\n",
    "    mat[:,i] = arr"
   ]
  },
  {
   "cell_type": "code",
   "execution_count": 30,
   "metadata": {},
   "outputs": [
    {
     "data": {
      "text/plain": [
       "<matplotlib.image.AxesImage at 0x7f2daff42470>"
      ]
     },
     "execution_count": 30,
     "metadata": {},
     "output_type": "execute_result"
    },
    {
     "data": {
      "image/png": "[encoded data removed]",
      "text/plain": [
       "<Figure size 72x720 with 1 Axes>"
      ]
     },
     "metadata": {
      "needs_background": "light"
     },
     "output_type": "display_data"
    }
   ],
   "source": [
    "import matplotlib.pyplot as plt\n",
    "plt.figure(figsize=(1,10))\n",
    "plt.imshow(mat[:,[3,2,0,1]])"
   ]
  }
 ],
 "metadata": {
  "kernelspec": {
   "display_name": "Python 3",
   "language": "python",
   "name": "python3"
  },
  "language_info": {
   "codemirror_mode": {
    "name": "ipython",
    "version": 3
   },
   "file_extension": ".py",
   "mimetype": "text/x-python",
   "name": "python",
   "nbconvert_exporter": "python",
   "pygments_lexer": "ipython3",
   "version": "3.7.3"
  }
 },
 "nbformat": 4,
 "nbformat_minor": 2
}
