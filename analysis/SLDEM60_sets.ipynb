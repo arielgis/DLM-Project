{
 "cells": [
  {
   "cell_type": "markdown",
   "metadata": {},
   "source": [
    "# 1. Generate images set out of original lunar DEM tile (60 m/pix)\n",
    "Initialize workspace: "
   ]
  },
  {
   "cell_type": "code",
   "execution_count": 1,
   "metadata": {},
   "outputs": [
    {
     "ename": "ModuleNotFoundError",
     "evalue": "No module named 'input_data_gen'",
     "output_type": "error",
     "traceback": [
      "\u001b[0;31m---------------------------------------------------------------------------\u001b[0m",
      "\u001b[0;31mModuleNotFoundError\u001b[0m                       Traceback (most recent call last)",
      "\u001b[0;32m<ipython-input-1-68ef3892e96d>\u001b[0m in \u001b[0;36m<module>\u001b[0;34m\u001b[0m\n\u001b[1;32m      7\u001b[0m \u001b[0mget_ipython\u001b[0m\u001b[0;34m(\u001b[0m\u001b[0;34m)\u001b[0m\u001b[0;34m.\u001b[0m\u001b[0mrun_line_magic\u001b[0m\u001b[0;34m(\u001b[0m\u001b[0;34m'matplotlib'\u001b[0m\u001b[0;34m,\u001b[0m \u001b[0;34m'inline'\u001b[0m\u001b[0;34m)\u001b[0m\u001b[0;34m\u001b[0m\u001b[0;34m\u001b[0m\u001b[0m\n\u001b[1;32m      8\u001b[0m \u001b[0;32mimport\u001b[0m \u001b[0mnumpy\u001b[0m \u001b[0;32mas\u001b[0m \u001b[0mnp\u001b[0m\u001b[0;34m\u001b[0m\u001b[0;34m\u001b[0m\u001b[0m\n\u001b[0;32m----> 9\u001b[0;31m \u001b[0;32mimport\u001b[0m \u001b[0minput_data_gen\u001b[0m \u001b[0;32mas\u001b[0m \u001b[0migen\u001b[0m\u001b[0;34m\u001b[0m\u001b[0;34m\u001b[0m\u001b[0m\n\u001b[0m\u001b[1;32m     10\u001b[0m \u001b[0;32mimport\u001b[0m \u001b[0mutils\u001b[0m\u001b[0;34m.\u001b[0m\u001b[0mprocessing\u001b[0m \u001b[0;32mas\u001b[0m \u001b[0mproc\u001b[0m\u001b[0;34m\u001b[0m\u001b[0;34m\u001b[0m\u001b[0m\n\u001b[1;32m     11\u001b[0m \u001b[0;32mimport\u001b[0m \u001b[0mh5py\u001b[0m\u001b[0;34m\u001b[0m\u001b[0;34m\u001b[0m\u001b[0m\n",
      "\u001b[0;31mModuleNotFoundError\u001b[0m: No module named 'input_data_gen'"
     ]
    }
   ],
   "source": [
    "import sys\n",
    "sys.path.append('../')\n",
    "from PIL import Image\n",
    "import time\n",
    "Image.MAX_IMAGE_PIXELS = 353894500\n",
    "import matplotlib.pyplot as plt\n",
    "%matplotlib inline\n",
    "import numpy as np\n",
    "import input_data_gen as igen\n",
    "import utils.processing as proc\n",
    "import h5py\n",
    "import utils.maplot\n",
    "np.random.seed(42)\n",
    "\n",
    "data_path='../../data/'"
   ]
  },
  {
   "cell_type": "code",
   "execution_count": null,
   "metadata": {},
   "outputs": [],
   "source": [
    "# Read source image.\n",
    "img = Image.open(data_path + \"/sldem2015_512_00n_30n_000_045_8bit.png\")\n",
    "print(img.format, img.size, img.mode)\n",
    "# [Min long, max long, min lat, max lat] dimensions of source image.\n",
    "source_cdim = [0., 45., 0., 30.]\n",
    "start_time = time.time()\n",
    "fig = plt.figure(figsize=[10, 3])\n",
    "plt.subplot(1,2,1)\n",
    "plt.title('SLDEM tile')\n",
    "plt.imshow(img, extent=source_cdim, aspect=\"equal\", cmap=\"gist_earth\")\n",
    "plt.colorbar()\n",
    "plt.subplot(1,2,2)\n",
    "img_arr = np.concatenate(np.asarray(img))\n",
    "plt.hist(img_arr, 256);\n",
    "plt.title('Histogram')\n",
    "print(time.time() - start_time)\n",
    "print('Number of unique values: {}'.format(len(np.unique(img_arr))))"
   ]
  },
  {
   "cell_type": "code",
   "execution_count": null,
   "metadata": {},
   "outputs": [],
   "source": [
    "np.random.seed(42)\n",
    "# Import crater catalogs (stored under /catalogues)\n",
    "craters = igen.ReadLROCHeadCombinedCraterCSV(filelroc=\"../catalogues/LROCCraters.csv\",\n",
    "                                  filehead=\"../catalogues/HeadCraters.csv\")\n",
    "\n",
    "fn = '../../data/test_SLDEM60'\n",
    "sub_cdim = source_cdim\n",
    "\n",
    "# Sample subset of image.  Co-opt igen.ResampleCraters to remove all\n",
    "# craters beyond cdim (either sub or source).\n",
    "if sub_cdim != source_cdim:\n",
    "    img = igen.InitialImageCut(img, source_cdim, sub_cdim)\n",
    "craters = igen.ResampleCraters(craters, sub_cdim, img.size[1])\n",
    "craters.tail()\n",
    "start_time = time.time()\n",
    "\n",
    "# Generate input images: \n",
    "igen.GenDataset(img, craters, fn, \n",
    "                 cdim=sub_cdim, amt=10, rawlen_range=[256*2, 2000*2], seed=42, verbose=True, \n",
    "               compress16bit=True)\n",
    "\n",
    "print(\"Time elapsed: {0:.1f} sec\".format(time.time() - start_time))"
   ]
  },
  {
   "cell_type": "code",
   "execution_count": null,
   "metadata": {},
   "outputs": [],
   "source": [
    "# show one example frmae: \n",
    "fn = '../../data/test_SLDEM60'\n",
    "example = h5py.File(fn + '_images.hdf5', 'r')\n",
    "im_num=1\n",
    "\n",
    "fig = plt.figure(figsize=[10, 3])\n",
    "plt.subplot(1,2,1)\n",
    "plt.title('Example Frame')\n",
    "plt.imshow(example['input_images'][im_num], aspect=\"equal\", cmap=\"gist_earth\")\n",
    "plt.colorbar()\n",
    "plt.subplot(1,2,2)\n",
    "img_arr = np.concatenate(example['input_images'][im_num])\n",
    "plt.hist(img_arr[img_arr>0], 256);\n",
    "plt.title('Histogram')\n",
    "print('Number of unique values: {}'.format(len(np.unique(img_arr))))"
   ]
  },
  {
   "cell_type": "markdown",
   "metadata": {},
   "source": [
    "Produce another set based on the Robbins catalog: "
   ]
  },
  {
   "cell_type": "code",
   "execution_count": null,
   "metadata": {},
   "outputs": [],
   "source": [
    "# Read the Robbins dataset (stored under /catalogues)\n",
    "craters = igen.ReadRobbinsCraterCSV(filename=\"../catalogues/RobbinsLunarCraters.csv\")\n",
    "np.random.seed(42)\n",
    "fn = '../../data/test_SLDEM60_Robbins'\n",
    "sub_cdim = source_cdim\n",
    "\n",
    "# Sample subset of image.  Co-opt igen.ResampleCraters to remove all\n",
    "# craters beyond cdim (either sub or source).\n",
    "if sub_cdim != source_cdim:\n",
    "    img = igen.InitialImageCut(img, source_cdim, sub_cdim)\n",
    "craters = igen.ResampleCraters(craters, sub_cdim, img.size[1])\n",
    "craters.tail()\n",
    "\n",
    "start_time = time.time()\n",
    "\n",
    "# Generate input images: \n",
    "igen.GenDataset(img, craters, fn, \n",
    "                 cdim=sub_cdim, amt=10, rawlen_range=[256*2, 2000*2], seed=42, verbose=True,\n",
    "                compress16bit=True)\n",
    "\n",
    "print(\"Time elapsed: {0:.1f} sec\".format(time.time() - start_time))"
   ]
  },
  {
   "cell_type": "code",
   "execution_count": null,
   "metadata": {},
   "outputs": [],
   "source": [
    "fn = '../../data/test_SLDEM60'\n",
    "gen_imgs_60 = h5py.File(fn + '_images.hdf5', 'r')\n",
    "fn = '../../data/test_SLDEM120'\n",
    "gen_imgs_120 = h5py.File(fn + '_images.hdf5', 'r')\n",
    "fn = '../../data/test_SLDEM60_Robbins'\n",
    "gen_imgs_60_r = h5py.File(fn + '_images.hdf5', 'r')\n",
    "\n",
    "# See frames of the set we produced: \n",
    "subset_list = np.arange(10)\n",
    "fig = plt.figure(figsize=[16, 8])\n",
    "dem_map = plt.imshow(img, extent=sub_cdim, aspect=\"equal\", cmap=\"gist_earth\")\n",
    "plt.xlabel(\"Longitude\"); plt.ylabel(\"Latitude\")\n",
    "for i in subset_list:\n",
    "  llon,rlon,llat,ulat=gen_imgs_120['longlat_bounds']['img_{:02d}'.format(i)][...]\n",
    "  h1,=plt.plot([llon, llon, rlon, rlon, llon],[llat, ulat, ulat, llat, llat],'b')\n",
    "  plt.text(llon,llat,str(i), color='k')\n",
    "  \n",
    "  llon,rlon,llat,ulat=gen_imgs_60['longlat_bounds']['img_{:02d}'.format(i)][...]\n",
    "  h2,=plt.plot([llon, llon, rlon, rlon, llon],[llat, ulat, ulat, llat, llat],'r')\n",
    "  plt.text(llon,llat,str(i), color='k')\n",
    "\n",
    "  llon,rlon,llat,ulat=gen_imgs_60_r['longlat_bounds']['img_{:02d}'.format(i)][...]\n",
    "  h3,=plt.plot([llon, llon, rlon, rlon, llon],[llat, ulat, ulat, llat, llat],'m')\n",
    "  plt.text(llon,llat,str(i), color='k')\n",
    "\n",
    "plt.legend([h1,h2,h3],['120 m/pix set','60 m/pix set','60 m/pix w.Robbins']);\n"
   ]
  },
  {
   "cell_type": "code",
   "execution_count": null,
   "metadata": {},
   "outputs": [],
   "source": [
    "# how many unique values in each frame? \n",
    "UV60=[len(np.unique(gen_imgs_60['input_images'][i].flatten())) for i in range(10)]\n",
    "UV120=[len(np.unique(gen_imgs_120['input_images'][i].flatten())) for i in range(10)]\n",
    "print('For the 60 set {}±{:.1f} unique values'.format(np.mean(UV60),np.std(UV60)))\n",
    "print('For the 120 set {}±{:.1f} unique values'.format(np.mean(UV120),np.std(UV120)))"
   ]
  },
  {
   "cell_type": "markdown",
   "metadata": {},
   "source": [
    "Compare these new sets of SLDEM60 to the set we made from SLDEM120: "
   ]
  },
  {
   "cell_type": "code",
   "execution_count": null,
   "metadata": {},
   "outputs": [],
   "source": [
    "im_num_120=5\n",
    "im_num_60=8\n",
    "fig = plt.figure(figsize=[15, 5])\n",
    "\n",
    "ax=plt.subplot(1,3,1);\n",
    "utils.maplot.plot_map_w_scalebar2(ax,gen_imgs_120,im_num_120,colorbar=True)\n",
    "l,r=plt.xlim(); u,d=plt.ylim()\n",
    "llon,rlon,llat,ulat=gen_imgs_60['longlat_bounds']['img_{:02d}'.format(im_num_60)][...]\n",
    "plt.plot([llon, llon, rlon, rlon, llon],[llat, ulat, ulat, llat, llat],'m')\n",
    "plt.xlim((l,r)); plt.ylim((u,d))\n",
    "plt.title('120 m/pix')\n",
    "\n",
    "ax2=plt.subplot(1,3,2);\n",
    "utils.maplot.plot_map_w_scalebar2(ax2,gen_imgs_60,im_num_60,colorbar=True)\n",
    "l,r=plt.xlim(); u,d=plt.ylim()\n",
    "llon,rlon,llat,ulat=gen_imgs_120['longlat_bounds']['img_{:02d}'.format(im_num_120)][...]\n",
    "plt.plot([llon, llon, rlon, rlon, llon],[llat, ulat, ulat, llat, llat],'b')\n",
    "plt.xlim((l,r)); plt.ylim((u,d))\n",
    "plt.title('60 m/pix')\n",
    "\n",
    "ax3=plt.subplot(1,3,3)\n",
    "utils.maplot.plot_map_w_scalebar2(ax3,gen_imgs_60_r,im_num_60,colorbar=True);\n",
    "plt.title('60 m/pix Robbins');"
   ]
  },
  {
   "cell_type": "markdown",
   "metadata": {},
   "source": [
    "# 2. Test model on frames from new DEM"
   ]
  },
  {
   "cell_type": "code",
   "execution_count": null,
   "metadata": {},
   "outputs": [],
   "source": [
    "import keras\n",
    "keras.__version__"
   ]
  },
  {
   "cell_type": "code",
   "execution_count": null,
   "metadata": {},
   "outputs": [],
   "source": [
    "from keras.models import load_model\n",
    "import sys\n",
    "deepmoon_path='../../DeepCrater'\n",
    "sys.path.append(\"%s/utils/\"%deepmoon_path)\n",
    "import template_match_target as tmt\n",
    "\n",
    "# Use the commented out line for Keras 2.0+\n",
    "# model = load_model(zenodo_path + '/model_keras2.h5')\n",
    "model = load_model(data_path + '/model_keras1.2.2.h5')\n",
    "\n",
    "def predict_and_show(gen_imgs, im_num, craters):\n",
    "    sample_data = {'imgs': [gen_imgs['input_images'][...].astype('float32'),\n",
    "                        gen_imgs['target_masks'][...].astype('float32')]}\n",
    "    proc.preprocess(sample_data)\n",
    "    sd_input_images = sample_data['imgs'][0]\n",
    "    sd_target_masks = sample_data['imgs'][1]\n",
    "    pred = model.predict(sd_input_images[im_num:im_num + 1])\n",
    "    # Use scikit-image template matching to extract crater locations.  Only search for craters with r >= 3 pixels.\n",
    "    extracted_rings = tmt.template_match_t(pred[0].copy(), minrad=1.5)\n",
    "    fig = plt.figure(figsize=[18, 6])\n",
    "    [ax1, ax2, ax3] = fig.subplots(1, 3)\n",
    "    ax1.imshow(sd_input_images[im_num].squeeze(), origin='upper', cmap='gist_earth')\n",
    "    ax1.imshow(1-sd_target_masks[im_num].squeeze(), origin='upper', cmap='Greys_r', alpha=0.2)\n",
    "    ax2.imshow(pred[0], origin='upper', cmap='Greys_r', vmin=0, vmax=1)\n",
    "    ax3.imshow(sd_input_images[im_num].squeeze(), origin='upper', cmap=\"gist_earth\")\n",
    "    for x, y, r in extracted_rings:\n",
    "        circle = plt.Circle((x, y), r, color='blue', fill=False, linewidth=2, alpha=0.9)\n",
    "        ax3.add_artist(circle)\n",
    "    ax1.set_title('DEM + Ground-Truth')\n",
    "    ax2.set_title('CNN Predictions')\n",
    "    ax3.set_title('Post-CNN Craters')\n",
    "    plt.show()\n",
    "    sub_cdim=gen_imgs['longlat_bounds']['img_{:02d}'.format(im_num)][...]\n",
    "    import pandas as pd\n",
    "    df1=pd.DataFrame(data=extracted_rings, columns=['x','y','r'])\n",
    "    df1['catalog']='DeepCrater'\n",
    "    df1['Diameter (km)']=np.ceil(df1['r']*2*(sub_cdim[1]-sub_cdim[0])/256*30).astype(int) #D=2*radius_pix*deg/pix*km/deg\n",
    "    df2 = igen.ResampleCraters(craters, sub_cdim, 256, minpix=3.)\n",
    "    df2['Diameter (km)']=np.ceil(df2['Diameter (km)'])\n",
    "    df2['catalog']='Robbins'\n",
    "    c=pd.get_dummies(pd.concat([df1[['Diameter (km)','catalog']],df2[['Diameter (km)','catalog']]])).astype(int)\n",
    "    c=c.pivot_table(index='Diameter (km)',aggfunc=sum, margins=True).astype(int)\n",
    "    c['fraction']=c['catalog_DeepCrater']/c['catalog_Robbins']\n",
    "    print(c)"
   ]
  },
  {
   "cell_type": "code",
   "execution_count": null,
   "metadata": {},
   "outputs": [],
   "source": [
    "predict_and_show(gen_imgs_60_r, im_num_60, craters)"
   ]
  },
  {
   "cell_type": "markdown",
   "metadata": {},
   "source": [
    "# 3. Test model only on small frames of SLDEM60"
   ]
  },
  {
   "cell_type": "code",
   "execution_count": null,
   "metadata": {},
   "outputs": [],
   "source": [
    "np.random.seed(42)\n",
    "# Import crater catalogs (stored under /catalogues)\n",
    "craters = igen.ReadRobbinsCraterCSV(filename=\"../catalogues/RobbinsLunarCraters.csv\")\n",
    "fn = '../../data/test_SLDEM60_small'\n",
    "sub_cdim = source_cdim\n",
    "# Generate input images: \n",
    "igen.GenDataset(img, craters, fn, \n",
    "                 cdim=sub_cdim, amt=10, rawlen_range=[256, 256], seed=42, verbose=True, \n",
    "                compress16bit=True)\n",
    "\n",
    "gen_imgs_60_small = h5py.File(fn + '_images.hdf5', 'r')\n",
    "# how many unique values in each frame? \n",
    "UV60=[len(np.unique(gen_imgs_60_small['input_images'][i].flatten())) for i in range(10)]\n",
    "print('For the 60_small set there are mean of {}±{:.1f} unique values'.format(np.mean(UV60),np.std(UV60)))"
   ]
  },
  {
   "cell_type": "code",
   "execution_count": null,
   "metadata": {},
   "outputs": [],
   "source": [
    "predict_and_show(gen_imgs_60_small, 2, craters)"
   ]
  },
  {
   "cell_type": "code",
   "execution_count": null,
   "metadata": {},
   "outputs": [],
   "source": []
  }
 ],
 "metadata": {
  "kernelspec": {
   "display_name": "Python 3",
   "language": "python",
   "name": "python3"
  },
  "language_info": {
   "codemirror_mode": {
    "name": "ipython",
    "version": 3
   },
   "file_extension": ".py",
   "mimetype": "text/x-python",
   "name": "python",
   "nbconvert_exporter": "python",
   "pygments_lexer": "ipython3",
   "version": "3.7.3"
  }
 },
 "nbformat": 4,
 "nbformat_minor": 1
}
